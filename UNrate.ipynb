{
  "nbformat": 4,
  "nbformat_minor": 0,
  "metadata": {
    "colab": {
      "provenance": [],
      "toc_visible": true,
      "include_colab_link": true
    },
    "kernelspec": {
      "name": "python3",
      "display_name": "Python 3"
    },
    "language_info": {
      "name": "python"
    }
  },
  "cells": [
    {
      "cell_type": "markdown",
      "metadata": {
        "id": "view-in-github",
        "colab_type": "text"
      },
      "source": [
        "<a href=\"https://colab.research.google.com/github/chenxu66/ORIE5741-UnemplotmentPrediction/blob/main/UNrate.ipynb\" target=\"_parent\"><img src=\"https://colab.research.google.com/assets/colab-badge.svg\" alt=\"Open In Colab\"/></a>"
      ]
    },
    {
      "cell_type": "code",
      "source": [
        "pip install fredapi"
      ],
      "metadata": {
        "id": "dP2CJuMe0UoL"
      },
      "execution_count": null,
      "outputs": []
    },
    {
      "cell_type": "code",
      "execution_count": null,
      "metadata": {
        "id": "estlll0EziSA"
      },
      "outputs": [],
      "source": [
        "import pandas as pd\n",
        "import numpy as np\n",
        "from fredapi import Fred\n",
        "import datetime\n",
        "import seaborn as sns \n",
        "import matplotlib.pyplot as plt\n",
        "%matplotlib inline\n",
        "import statsmodels.api as sm\n",
        "from sklearn.model_selection import train_test_split\n"
      ]
    },
    {
      "cell_type": "code",
      "source": [
        "fred = Fred(api_key=\"27e6b12c3fe162251565c96757199257\")"
      ],
      "metadata": {
        "id": "yzDIxUGn1ago"
      },
      "execution_count": null,
      "outputs": []
    },
    {
      "cell_type": "markdown",
      "source": [
        "# 1. EDA"
      ],
      "metadata": {
        "id": "JYSjhpNqCeoh"
      }
    },
    {
      "cell_type": "code",
      "source": [
        "def get_data(feature, name, standardize=True):\n",
        "  df = fred.get_series_all_releases(feature)\n",
        "  df = df[df.value.notnull()]\n",
        "  df = df[df[\"date\"] >= datetime.datetime(1982, 1, 1)]\n",
        "  df = df[df[\"date\"] <= datetime.datetime(2023, 2, 2)]\n",
        "  df = df.groupby('date', as_index=False).last()\n",
        "  df = df.drop(\"realtime_start\", axis=1)\n",
        "  if standardize:\n",
        "    df[\"value\"] = (df[\"value\"]-df[\"value\"].mean())/df[\"value\"].std() # Standardize\n",
        "  df.columns = [\"date\", name]\n",
        "  return df"
      ],
      "metadata": {
        "id": "iMR6Gezm_2r3"
      },
      "execution_count": null,
      "outputs": []
    },
    {
      "cell_type": "code",
      "source": [
        "GDP = get_data(\"gdp\", \"GDP\") # quarterly GDP\n",
        "P = get_data(\"POPTHM\", \"P\") # Population\n",
        "IR = get_data(\"REAINTRATREARAT10Y\", \"IR\") # interest_rate\n",
        "CPI = get_data(\"CPALTT01USM657N\", \"CPI\")\n",
        "W = get_data(\"LES1252881600Q\", \"W\") # Wage\n",
        "# PC = get_data(\"USASACRMISMEI\", \"PC\") # Passenger Car Registrations for US\n",
        "IP = get_data(\"INDPRO\", \"IP\") # Industrial Production: Total Index\n",
        "M2 = get_data(\"M2SL\", \"M2\") # M2\n",
        "# LT = get_data(\"IRLTLT01USM156N\", \"LT\") # Long-Term Government Bond Yields: 10-year\n",
        "# OP = get_data(\"MCOILBRENTEU\", \"OP\") # Crude Oil Prices: Brent - Europe (Monthly)\n",
        "OC = get_data(\"OECDCPALTT01GYM\", \"OC\") # International: OECD CPI\n",
        "R = get_data(\"RECPROUSM156N\", \"R\", standardize=False) # Smoothed U.S. Recession Probabilities"
      ],
      "metadata": {
        "id": "_9KU3JteAXgo"
      },
      "execution_count": null,
      "outputs": []
    },
    {
      "cell_type": "code",
      "source": [
        "R['R'] = pd.cut(x=R['R'], bins=[0, 15, 100], labels=[0, 1])"
      ],
      "metadata": {
        "id": "Yftu2bO-0GkH"
      },
      "execution_count": null,
      "outputs": []
    },
    {
      "cell_type": "code",
      "source": [
        "# R['recession'] = pd.cut(x=R['R'], bins=[0, 15, 100], labels=['No', 'Yes'])\n",
        "# R = pd.concat([R.date, pd.get_dummies(R.recession, prefix='RecessionIndicator')], axis=1)\n",
        "R"
      ],
      "metadata": {
        "id": "UDjtZK05JwcA",
        "colab": {
          "base_uri": "https://localhost:8080/",
          "height": 424
        },
        "outputId": "ece8f7e1-9d5c-4c6d-dfcb-14b1d4211bb7"
      },
      "execution_count": null,
      "outputs": [
        {
          "output_type": "execute_result",
          "data": {
            "text/plain": [
              "          date  R\n",
              "0   1982-01-01  1\n",
              "1   1982-02-01  0\n",
              "2   1982-03-01  1\n",
              "3   1982-04-01  1\n",
              "4   1982-05-01  1\n",
              "..         ... ..\n",
              "489 2022-10-01  0\n",
              "490 2022-11-01  0\n",
              "491 2022-12-01  0\n",
              "492 2023-01-01  0\n",
              "493 2023-02-01  0\n",
              "\n",
              "[494 rows x 2 columns]"
            ],
            "text/html": [
              "\n",
              "  <div id=\"df-36d5b0e4-d496-45f8-8463-bd743d4d6c62\">\n",
              "    <div class=\"colab-df-container\">\n",
              "      <div>\n",
              "<style scoped>\n",
              "    .dataframe tbody tr th:only-of-type {\n",
              "        vertical-align: middle;\n",
              "    }\n",
              "\n",
              "    .dataframe tbody tr th {\n",
              "        vertical-align: top;\n",
              "    }\n",
              "\n",
              "    .dataframe thead th {\n",
              "        text-align: right;\n",
              "    }\n",
              "</style>\n",
              "<table border=\"1\" class=\"dataframe\">\n",
              "  <thead>\n",
              "    <tr style=\"text-align: right;\">\n",
              "      <th></th>\n",
              "      <th>date</th>\n",
              "      <th>R</th>\n",
              "    </tr>\n",
              "  </thead>\n",
              "  <tbody>\n",
              "    <tr>\n",
              "      <th>0</th>\n",
              "      <td>1982-01-01</td>\n",
              "      <td>1</td>\n",
              "    </tr>\n",
              "    <tr>\n",
              "      <th>1</th>\n",
              "      <td>1982-02-01</td>\n",
              "      <td>0</td>\n",
              "    </tr>\n",
              "    <tr>\n",
              "      <th>2</th>\n",
              "      <td>1982-03-01</td>\n",
              "      <td>1</td>\n",
              "    </tr>\n",
              "    <tr>\n",
              "      <th>3</th>\n",
              "      <td>1982-04-01</td>\n",
              "      <td>1</td>\n",
              "    </tr>\n",
              "    <tr>\n",
              "      <th>4</th>\n",
              "      <td>1982-05-01</td>\n",
              "      <td>1</td>\n",
              "    </tr>\n",
              "    <tr>\n",
              "      <th>...</th>\n",
              "      <td>...</td>\n",
              "      <td>...</td>\n",
              "    </tr>\n",
              "    <tr>\n",
              "      <th>489</th>\n",
              "      <td>2022-10-01</td>\n",
              "      <td>0</td>\n",
              "    </tr>\n",
              "    <tr>\n",
              "      <th>490</th>\n",
              "      <td>2022-11-01</td>\n",
              "      <td>0</td>\n",
              "    </tr>\n",
              "    <tr>\n",
              "      <th>491</th>\n",
              "      <td>2022-12-01</td>\n",
              "      <td>0</td>\n",
              "    </tr>\n",
              "    <tr>\n",
              "      <th>492</th>\n",
              "      <td>2023-01-01</td>\n",
              "      <td>0</td>\n",
              "    </tr>\n",
              "    <tr>\n",
              "      <th>493</th>\n",
              "      <td>2023-02-01</td>\n",
              "      <td>0</td>\n",
              "    </tr>\n",
              "  </tbody>\n",
              "</table>\n",
              "<p>494 rows × 2 columns</p>\n",
              "</div>\n",
              "      <button class=\"colab-df-convert\" onclick=\"convertToInteractive('df-36d5b0e4-d496-45f8-8463-bd743d4d6c62')\"\n",
              "              title=\"Convert this dataframe to an interactive table.\"\n",
              "              style=\"display:none;\">\n",
              "        \n",
              "  <svg xmlns=\"http://www.w3.org/2000/svg\" height=\"24px\"viewBox=\"0 0 24 24\"\n",
              "       width=\"24px\">\n",
              "    <path d=\"M0 0h24v24H0V0z\" fill=\"none\"/>\n",
              "    <path d=\"M18.56 5.44l.94 2.06.94-2.06 2.06-.94-2.06-.94-.94-2.06-.94 2.06-2.06.94zm-11 1L8.5 8.5l.94-2.06 2.06-.94-2.06-.94L8.5 2.5l-.94 2.06-2.06.94zm10 10l.94 2.06.94-2.06 2.06-.94-2.06-.94-.94-2.06-.94 2.06-2.06.94z\"/><path d=\"M17.41 7.96l-1.37-1.37c-.4-.4-.92-.59-1.43-.59-.52 0-1.04.2-1.43.59L10.3 9.45l-7.72 7.72c-.78.78-.78 2.05 0 2.83L4 21.41c.39.39.9.59 1.41.59.51 0 1.02-.2 1.41-.59l7.78-7.78 2.81-2.81c.8-.78.8-2.07 0-2.86zM5.41 20L4 18.59l7.72-7.72 1.47 1.35L5.41 20z\"/>\n",
              "  </svg>\n",
              "      </button>\n",
              "      \n",
              "  <style>\n",
              "    .colab-df-container {\n",
              "      display:flex;\n",
              "      flex-wrap:wrap;\n",
              "      gap: 12px;\n",
              "    }\n",
              "\n",
              "    .colab-df-convert {\n",
              "      background-color: #E8F0FE;\n",
              "      border: none;\n",
              "      border-radius: 50%;\n",
              "      cursor: pointer;\n",
              "      display: none;\n",
              "      fill: #1967D2;\n",
              "      height: 32px;\n",
              "      padding: 0 0 0 0;\n",
              "      width: 32px;\n",
              "    }\n",
              "\n",
              "    .colab-df-convert:hover {\n",
              "      background-color: #E2EBFA;\n",
              "      box-shadow: 0px 1px 2px rgba(60, 64, 67, 0.3), 0px 1px 3px 1px rgba(60, 64, 67, 0.15);\n",
              "      fill: #174EA6;\n",
              "    }\n",
              "\n",
              "    [theme=dark] .colab-df-convert {\n",
              "      background-color: #3B4455;\n",
              "      fill: #D2E3FC;\n",
              "    }\n",
              "\n",
              "    [theme=dark] .colab-df-convert:hover {\n",
              "      background-color: #434B5C;\n",
              "      box-shadow: 0px 1px 3px 1px rgba(0, 0, 0, 0.15);\n",
              "      filter: drop-shadow(0px 1px 2px rgba(0, 0, 0, 0.3));\n",
              "      fill: #FFFFFF;\n",
              "    }\n",
              "  </style>\n",
              "\n",
              "      <script>\n",
              "        const buttonEl =\n",
              "          document.querySelector('#df-36d5b0e4-d496-45f8-8463-bd743d4d6c62 button.colab-df-convert');\n",
              "        buttonEl.style.display =\n",
              "          google.colab.kernel.accessAllowed ? 'block' : 'none';\n",
              "\n",
              "        async function convertToInteractive(key) {\n",
              "          const element = document.querySelector('#df-36d5b0e4-d496-45f8-8463-bd743d4d6c62');\n",
              "          const dataTable =\n",
              "            await google.colab.kernel.invokeFunction('convertToInteractive',\n",
              "                                                     [key], {});\n",
              "          if (!dataTable) return;\n",
              "\n",
              "          const docLinkHtml = 'Like what you see? Visit the ' +\n",
              "            '<a target=\"_blank\" href=https://colab.research.google.com/notebooks/data_table.ipynb>data table notebook</a>'\n",
              "            + ' to learn more about interactive tables.';\n",
              "          element.innerHTML = '';\n",
              "          dataTable['output_type'] = 'display_data';\n",
              "          await google.colab.output.renderOutput(dataTable, element);\n",
              "          const docLink = document.createElement('div');\n",
              "          docLink.innerHTML = docLinkHtml;\n",
              "          element.appendChild(docLink);\n",
              "        }\n",
              "      </script>\n",
              "    </div>\n",
              "  </div>\n",
              "  "
            ]
          },
          "metadata": {},
          "execution_count": 7
        }
      ]
    },
    {
      "cell_type": "code",
      "source": [
        "ym = get_data(\"LNS14000001\", \"ym\", standardize=False) # Unemployment Rate - Men\n",
        "yw = get_data(\"LNS14000002\", \"yw\", standardize=False) # Unemployment Rate - Women\n",
        "y = get_data(\"UNRATE\", \"y\", standardize=False) # Unemployment Rate"
      ],
      "metadata": {
        "id": "KNbDaamu8htU"
      },
      "execution_count": null,
      "outputs": []
    },
    {
      "cell_type": "code",
      "source": [
        "y.y = np.log(y.y)"
      ],
      "metadata": {
        "id": "Twb7Hkta57ga"
      },
      "execution_count": null,
      "outputs": []
    },
    {
      "cell_type": "code",
      "source": [
        "plt.figure(figsize=(8, 6))\n",
        "sns.set_palette(\"hls\")     \n",
        "sns.histplot(y.y,color=\"steelblue\",bins=50)\n",
        "plt.xlabel('log(Unemployment Rate)',fontsize=15)\n",
        "plt.ylabel('Count',fontsize=15)   \n",
        "plt.grid(linestyle='-')   \n",
        "sns.despine(ax=None, top=True, right=True, left=True,bottom=True)\n",
        "plt.show()\n"
      ],
      "metadata": {
        "colab": {
          "base_uri": "https://localhost:8080/",
          "height": 548
        },
        "id": "s8afYtR81OPt",
        "outputId": "7dadb8b7-ff2c-47bf-8575-6d891f5f6b7d"
      },
      "execution_count": null,
      "outputs": [
        {
          "output_type": "display_data",
          "data": {
            "text/plain": [
              "<Figure size 800x600 with 1 Axes>"
            ],
            "image/png": "[encoded data removed]"
          },
          "metadata": {}
        }
      ]
    },
    {
      "cell_type": "code",
      "source": [
        "data = y\n",
        "for df in [ym, yw, GDP, P, IR, CPI, W, IP, M2, R, OC]:\n",
        "  data = pd.merge(data, df, on=\"date\", how=\"left\")\n",
        "data.fillna(method='ffill', inplace=True)"
      ],
      "metadata": {
        "id": "VLbGMeFjvOkd"
      },
      "execution_count": null,
      "outputs": []
    },
    {
      "cell_type": "code",
      "source": [
        "data"
      ],
      "metadata": {
        "colab": {
          "base_uri": "https://localhost:8080/",
          "height": 661
        },
        "id": "4tL-IY1j5R3B",
        "outputId": "dbdffa53-1fba-497e-c52e-f9ebbf5e9d6b"
      },
      "execution_count": null,
      "outputs": [
        {
          "output_type": "execute_result",
          "data": {
            "text/plain": [
              "          date         y   ym   yw       GDP         P        IR       CPI  \\\n",
              "0   1982-01-01  2.151762  8.7  8.5 -1.417519 -1.684400  2.757811  0.250303   \n",
              "1   1982-02-01  2.186051  8.8  8.9 -1.417519 -1.679572  2.775386  0.247235   \n",
              "2   1982-03-01  2.197225  9.1  8.9 -1.417519 -1.674468  2.493576 -1.033366   \n",
              "3   1982-04-01  2.230014  9.4  9.3 -1.408111 -1.669271  2.642773  0.564927   \n",
              "4   1982-05-01  2.240710  9.4  9.3 -1.408111 -1.663921  2.595611  2.151429   \n",
              "..         ...       ...  ...  ...       ...       ...       ...       ...   \n",
              "489 2022-10-01  1.308333  3.7  3.7  2.312355  1.479864 -0.353955  0.511656   \n",
              "490 2022-11-01  1.280934  3.7  3.6  2.312355  1.484353 -0.282719 -1.019149   \n",
              "491 2022-12-01  1.252763  3.4  3.6  2.312355  1.488443 -0.472097 -1.641579   \n",
              "492 2023-01-01  1.223775  3.6  3.3  2.365842  1.491917 -0.361556  1.701751   \n",
              "493 2023-02-01  1.280934  3.6  3.5  2.365842  1.495115 -0.555372  0.972608   \n",
              "\n",
              "            W        IP        M2  R        OC  \n",
              "0   -1.255432 -1.890368 -1.078808  1  2.211851  \n",
              "1   -1.255432 -1.835001 -1.078014  0  2.090539  \n",
              "2   -1.255432 -1.853629 -1.075691  1  1.954983  \n",
              "3   -1.134471 -1.878736 -1.072321  1  1.958326  \n",
              "4   -1.134471 -1.897008 -1.070094  1  2.044587  \n",
              "..        ...       ...       ... ..       ...  \n",
              "489  1.829083  1.144605  2.728474  0  2.142015  \n",
              "490  1.829083  1.125738  2.721812  0  2.005882  \n",
              "491  1.829083  1.037057  2.714221  0  1.697061  \n",
              "492  1.829083  1.089828  2.686007  0  1.618182  \n",
              "493  1.829083  1.101681  2.659555  0  1.495921  \n",
              "\n",
              "[494 rows x 13 columns]"
            ],
            "text/html": [
              "\n",
              "  <div id=\"df-f76dd297-f7a0-43bc-9135-9c5c4a94df35\">\n",
              "    <div class=\"colab-df-container\">\n",
              "      <div>\n",
              "<style scoped>\n",
              "    .dataframe tbody tr th:only-of-type {\n",
              "        vertical-align: middle;\n",
              "    }\n",
              "\n",
              "    .dataframe tbody tr th {\n",
              "        vertical-align: top;\n",
              "    }\n",
              "\n",
              "    .dataframe thead th {\n",
              "        text-align: right;\n",
              "    }\n",
              "</style>\n",
              "<table border=\"1\" class=\"dataframe\">\n",
              "  <thead>\n",
              "    <tr style=\"text-align: right;\">\n",
              "      <th></th>\n",
              "      <th>date</th>\n",
              "      <th>y</th>\n",
              "      <th>ym</th>\n",
              "      <th>yw</th>\n",
              "      <th>GDP</th>\n",
              "      <th>P</th>\n",
              "      <th>IR</th>\n",
              "      <th>CPI</th>\n",
              "      <th>W</th>\n",
              "      <th>IP</th>\n",
              "      <th>M2</th>\n",
              "      <th>R</th>\n",
              "      <th>OC</th>\n",
              "    </tr>\n",
              "  </thead>\n",
              "  <tbody>\n",
              "    <tr>\n",
              "      <th>0</th>\n",
              "      <td>1982-01-01</td>\n",
              "      <td>2.151762</td>\n",
              "      <td>8.7</td>\n",
              "      <td>8.5</td>\n",
              "      <td>-1.417519</td>\n",
              "      <td>-1.684400</td>\n",
              "      <td>2.757811</td>\n",
              "      <td>0.250303</td>\n",
              "      <td>-1.255432</td>\n",
              "      <td>-1.890368</td>\n",
              "      <td>-1.078808</td>\n",
              "      <td>1</td>\n",
              "      <td>2.211851</td>\n",
              "    </tr>\n",
              "    <tr>\n",
              "      <th>1</th>\n",
              "      <td>1982-02-01</td>\n",
              "      <td>2.186051</td>\n",
              "      <td>8.8</td>\n",
              "      <td>8.9</td>\n",
              "      <td>-1.417519</td>\n",
              "      <td>-1.679572</td>\n",
              "      <td>2.775386</td>\n",
              "      <td>0.247235</td>\n",
              "      <td>-1.255432</td>\n",
              "      <td>-1.835001</td>\n",
              "      <td>-1.078014</td>\n",
              "      <td>0</td>\n",
              "      <td>2.090539</td>\n",
              "    </tr>\n",
              "    <tr>\n",
              "      <th>2</th>\n",
              "      <td>1982-03-01</td>\n",
              "      <td>2.197225</td>\n",
              "      <td>9.1</td>\n",
              "      <td>8.9</td>\n",
              "      <td>-1.417519</td>\n",
              "      <td>-1.674468</td>\n",
              "      <td>2.493576</td>\n",
              "      <td>-1.033366</td>\n",
              "      <td>-1.255432</td>\n",
              "      <td>-1.853629</td>\n",
              "      <td>-1.075691</td>\n",
              "      <td>1</td>\n",
              "      <td>1.954983</td>\n",
              "    </tr>\n",
              "    <tr>\n",
              "      <th>3</th>\n",
              "      <td>1982-04-01</td>\n",
              "      <td>2.230014</td>\n",
              "      <td>9.4</td>\n",
              "      <td>9.3</td>\n",
              "      <td>-1.408111</td>\n",
              "      <td>-1.669271</td>\n",
              "      <td>2.642773</td>\n",
              "      <td>0.564927</td>\n",
              "      <td>-1.134471</td>\n",
              "      <td>-1.878736</td>\n",
              "      <td>-1.072321</td>\n",
              "      <td>1</td>\n",
              "      <td>1.958326</td>\n",
              "    </tr>\n",
              "    <tr>\n",
              "      <th>4</th>\n",
              "      <td>1982-05-01</td>\n",
              "      <td>2.240710</td>\n",
              "      <td>9.4</td>\n",
              "      <td>9.3</td>\n",
              "      <td>-1.408111</td>\n",
              "      <td>-1.663921</td>\n",
              "      <td>2.595611</td>\n",
              "      <td>2.151429</td>\n",
              "      <td>-1.134471</td>\n",
              "      <td>-1.897008</td>\n",
              "      <td>-1.070094</td>\n",
              "      <td>1</td>\n",
              "      <td>2.044587</td>\n",
              "    </tr>\n",
              "    <tr>\n",
              "      <th>...</th>\n",
              "      <td>...</td>\n",
              "      <td>...</td>\n",
              "      <td>...</td>\n",
              "      <td>...</td>\n",
              "      <td>...</td>\n",
              "      <td>...</td>\n",
              "      <td>...</td>\n",
              "      <td>...</td>\n",
              "      <td>...</td>\n",
              "      <td>...</td>\n",
              "      <td>...</td>\n",
              "      <td>...</td>\n",
              "      <td>...</td>\n",
              "    </tr>\n",
              "    <tr>\n",
              "      <th>489</th>\n",
              "      <td>2022-10-01</td>\n",
              "      <td>1.308333</td>\n",
              "      <td>3.7</td>\n",
              "      <td>3.7</td>\n",
              "      <td>2.312355</td>\n",
              "      <td>1.479864</td>\n",
              "      <td>-0.353955</td>\n",
              "      <td>0.511656</td>\n",
              "      <td>1.829083</td>\n",
              "      <td>1.144605</td>\n",
              "      <td>2.728474</td>\n",
              "      <td>0</td>\n",
              "      <td>2.142015</td>\n",
              "    </tr>\n",
              "    <tr>\n",
              "      <th>490</th>\n",
              "      <td>2022-11-01</td>\n",
              "      <td>1.280934</td>\n",
              "      <td>3.7</td>\n",
              "      <td>3.6</td>\n",
              "      <td>2.312355</td>\n",
              "      <td>1.484353</td>\n",
              "      <td>-0.282719</td>\n",
              "      <td>-1.019149</td>\n",
              "      <td>1.829083</td>\n",
              "      <td>1.125738</td>\n",
              "      <td>2.721812</td>\n",
              "      <td>0</td>\n",
              "      <td>2.005882</td>\n",
              "    </tr>\n",
              "    <tr>\n",
              "      <th>491</th>\n",
              "      <td>2022-12-01</td>\n",
              "      <td>1.252763</td>\n",
              "      <td>3.4</td>\n",
              "      <td>3.6</td>\n",
              "      <td>2.312355</td>\n",
              "      <td>1.488443</td>\n",
              "      <td>-0.472097</td>\n",
              "      <td>-1.641579</td>\n",
              "      <td>1.829083</td>\n",
              "      <td>1.037057</td>\n",
              "      <td>2.714221</td>\n",
              "      <td>0</td>\n",
              "      <td>1.697061</td>\n",
              "    </tr>\n",
              "    <tr>\n",
              "      <th>492</th>\n",
              "      <td>2023-01-01</td>\n",
              "      <td>1.223775</td>\n",
              "      <td>3.6</td>\n",
              "      <td>3.3</td>\n",
              "      <td>2.365842</td>\n",
              "      <td>1.491917</td>\n",
              "      <td>-0.361556</td>\n",
              "      <td>1.701751</td>\n",
              "      <td>1.829083</td>\n",
              "      <td>1.089828</td>\n",
              "      <td>2.686007</td>\n",
              "      <td>0</td>\n",
              "      <td>1.618182</td>\n",
              "    </tr>\n",
              "    <tr>\n",
              "      <th>493</th>\n",
              "      <td>2023-02-01</td>\n",
              "      <td>1.280934</td>\n",
              "      <td>3.6</td>\n",
              "      <td>3.5</td>\n",
              "      <td>2.365842</td>\n",
              "      <td>1.495115</td>\n",
              "      <td>-0.555372</td>\n",
              "      <td>0.972608</td>\n",
              "      <td>1.829083</td>\n",
              "      <td>1.101681</td>\n",
              "      <td>2.659555</td>\n",
              "      <td>0</td>\n",
              "      <td>1.495921</td>\n",
              "    </tr>\n",
              "  </tbody>\n",
              "</table>\n",
              "<p>494 rows × 13 columns</p>\n",
              "</div>\n",
              "      <button class=\"colab-df-convert\" onclick=\"convertToInteractive('df-f76dd297-f7a0-43bc-9135-9c5c4a94df35')\"\n",
              "              title=\"Convert this dataframe to an interactive table.\"\n",
              "              style=\"display:none;\">\n",
              "        \n",
              "  <svg xmlns=\"http://www.w3.org/2000/svg\" height=\"24px\"viewBox=\"0 0 24 24\"\n",
              "       width=\"24px\">\n",
              "    <path d=\"M0 0h24v24H0V0z\" fill=\"none\"/>\n",
              "    <path d=\"M18.56 5.44l.94 2.06.94-2.06 2.06-.94-2.06-.94-.94-2.06-.94 2.06-2.06.94zm-11 1L8.5 8.5l.94-2.06 2.06-.94-2.06-.94L8.5 2.5l-.94 2.06-2.06.94zm10 10l.94 2.06.94-2.06 2.06-.94-2.06-.94-.94-2.06-.94 2.06-2.06.94z\"/><path d=\"M17.41 7.96l-1.37-1.37c-.4-.4-.92-.59-1.43-.59-.52 0-1.04.2-1.43.59L10.3 9.45l-7.72 7.72c-.78.78-.78 2.05 0 2.83L4 21.41c.39.39.9.59 1.41.59.51 0 1.02-.2 1.41-.59l7.78-7.78 2.81-2.81c.8-.78.8-2.07 0-2.86zM5.41 20L4 18.59l7.72-7.72 1.47 1.35L5.41 20z\"/>\n",
              "  </svg>\n",
              "      </button>\n",
              "      \n",
              "  <style>\n",
              "    .colab-df-container {\n",
              "      display:flex;\n",
              "      flex-wrap:wrap;\n",
              "      gap: 12px;\n",
              "    }\n",
              "\n",
              "    .colab-df-convert {\n",
              "      background-color: #E8F0FE;\n",
              "      border: none;\n",
              "      border-radius: 50%;\n",
              "      cursor: pointer;\n",
              "      display: none;\n",
              "      fill: #1967D2;\n",
              "      height: 32px;\n",
              "      padding: 0 0 0 0;\n",
              "      width: 32px;\n",
              "    }\n",
              "\n",
              "    .colab-df-convert:hover {\n",
              "      background-color: #E2EBFA;\n",
              "      box-shadow: 0px 1px 2px rgba(60, 64, 67, 0.3), 0px 1px 3px 1px rgba(60, 64, 67, 0.15);\n",
              "      fill: #174EA6;\n",
              "    }\n",
              "\n",
              "    [theme=dark] .colab-df-convert {\n",
              "      background-color: #3B4455;\n",
              "      fill: #D2E3FC;\n",
              "    }\n",
              "\n",
              "    [theme=dark] .colab-df-convert:hover {\n",
              "      background-color: #434B5C;\n",
              "      box-shadow: 0px 1px 3px 1px rgba(0, 0, 0, 0.15);\n",
              "      filter: drop-shadow(0px 1px 2px rgba(0, 0, 0, 0.3));\n",
              "      fill: #FFFFFF;\n",
              "    }\n",
              "  </style>\n",
              "\n",
              "      <script>\n",
              "        const buttonEl =\n",
              "          document.querySelector('#df-f76dd297-f7a0-43bc-9135-9c5c4a94df35 button.colab-df-convert');\n",
              "        buttonEl.style.display =\n",
              "          google.colab.kernel.accessAllowed ? 'block' : 'none';\n",
              "\n",
              "        async function convertToInteractive(key) {\n",
              "          const element = document.querySelector('#df-f76dd297-f7a0-43bc-9135-9c5c4a94df35');\n",
              "          const dataTable =\n",
              "            await google.colab.kernel.invokeFunction('convertToInteractive',\n",
              "                                                     [key], {});\n",
              "          if (!dataTable) return;\n",
              "\n",
              "          const docLinkHtml = 'Like what you see? Visit the ' +\n",
              "            '<a target=\"_blank\" href=https://colab.research.google.com/notebooks/data_table.ipynb>data table notebook</a>'\n",
              "            + ' to learn more about interactive tables.';\n",
              "          element.innerHTML = '';\n",
              "          dataTable['output_type'] = 'display_data';\n",
              "          await google.colab.output.renderOutput(dataTable, element);\n",
              "          const docLink = document.createElement('div');\n",
              "          docLink.innerHTML = docLinkHtml;\n",
              "          element.appendChild(docLink);\n",
              "        }\n",
              "      </script>\n",
              "    </div>\n",
              "  </div>\n",
              "  "
            ]
          },
          "metadata": {},
          "execution_count": 34
        }
      ]
    },
    {
      "cell_type": "code",
      "source": [
        "sns.heatmap(data.loc[:,~data.columns.isin(['R'])].corr())"
      ],
      "metadata": {
        "id": "rkhXHlgGSoFY",
        "colab": {
          "base_uri": "https://localhost:8080/",
          "height": 509
        },
        "outputId": "485e4734-31ce-4178-c379-89c2ce11db06"
      },
      "execution_count": null,
      "outputs": [
        {
          "output_type": "stream",
          "name": "stderr",
          "text": [
            "<ipython-input-35-d7d388341b3d>:1: FutureWarning: The default value of numeric_only in DataFrame.corr is deprecated. In a future version, it will default to False. Select only valid columns or specify the value of numeric_only to silence this warning.\n",
            "  sns.heatmap(data.loc[:,~data.columns.isin(['R'])].corr())\n"
          ]
        },
        {
          "output_type": "execute_result",
          "data": {
            "text/plain": [
              "<Axes: >"
            ]
          },
          "metadata": {},
          "execution_count": 35
        },
        {
          "output_type": "display_data",
          "data": {
            "text/plain": [
              "<Figure size 640x480 with 2 Axes>"
            ],
            "image/png": "[encoded data removed]"
          },
          "metadata": {}
        }
      ]
    },
    {
      "cell_type": "code",
      "source": [
        "sns.boxplot(data.loc[:, ~data.columns.isin(['R','y','ym','yw'])])\n"
      ],
      "metadata": {
        "colab": {
          "base_uri": "https://localhost:8080/",
          "height": 448
        },
        "id": "IR7L22dzC5lx",
        "outputId": "1e13eaa3-9a81-4d6b-ffd1-3c1d1594a282"
      },
      "execution_count": null,
      "outputs": [
        {
          "output_type": "execute_result",
          "data": {
            "text/plain": [
              "<Axes: >"
            ]
          },
          "metadata": {},
          "execution_count": 36
        },
        {
          "output_type": "display_data",
          "data": {
            "text/plain": [
              "<Figure size 640x480 with 1 Axes>"
            ],
            "image/png": "[encoded data removed]"
          },
          "metadata": {}
        }
      ]
    },
    {
      "cell_type": "code",
      "source": [
        "data = sm.add_constant(data)"
      ],
      "metadata": {
        "id": "pxxTUtFZPguq"
      },
      "execution_count": null,
      "outputs": []
    },
    {
      "cell_type": "code",
      "source": [
        "x_train, x_test, y_train, y_test = train_test_split(data.loc[:,~data.columns.isin(['date', 'y', 'ym', \"yw\"])], data.y, test_size = 0.2)"
      ],
      "metadata": {
        "id": "52_SpHNxQRD7"
      },
      "execution_count": null,
      "outputs": []
    },
    {
      "cell_type": "markdown",
      "source": [
        "# 2. Linear Regression"
      ],
      "metadata": {
        "id": "d7qXxBgiOIbi"
      }
    },
    {
      "cell_type": "code",
      "source": [
        "from sklearn.metrics import r2_score\n",
        "from sklearn.metrics import mean_squared_error, mean_absolute_error\n",
        "from sklearn.linear_model import LinearRegression"
      ],
      "metadata": {
        "id": "rli_fICQOJZp"
      },
      "execution_count": null,
      "outputs": []
    },
    {
      "cell_type": "code",
      "source": [
        "model = sm.OLS(y_train, x_train).fit()\n",
        "y_pred = model.predict(x_test) \n",
        "model.summary()\n",
        "results = pd.DataFrame()\n",
        "results = results.append({'r2': r2_score(y_test, y_pred), \n",
        "                'mse': mean_squared_error(y_test,y_pred), \n",
        "                'mae': mean_absolute_error(y_test,y_pred),\n",
        "                'model': 'Linear Regression',}, ignore_index = True)\n"
      ],
      "metadata": {
        "colab": {
          "base_uri": "https://localhost:8080/"
        },
        "id": "zyDqbBNWRsT1",
        "outputId": "10a9fb5d-261e-4f0b-fe45-17ecd0f6280a"
      },
      "execution_count": null,
      "outputs": [
        {
          "output_type": "stream",
          "name": "stderr",
          "text": [
            "<ipython-input-144-c236cd3dab1b>:5: FutureWarning: The frame.append method is deprecated and will be removed from pandas in a future version. Use pandas.concat instead.\n",
            "  results = results.append({'r2': r2_score(y_test, y_pred),\n"
          ]
        }
      ]
    },
    {
      "cell_type": "code",
      "source": [
        "results"
      ],
      "metadata": {
        "colab": {
          "base_uri": "https://localhost:8080/",
          "height": 81
        },
        "id": "x_2qIdi99UnY",
        "outputId": "14e6e77d-83e0-4c9f-e243-fcf0c01c4fa0"
      },
      "execution_count": null,
      "outputs": [
        {
          "output_type": "execute_result",
          "data": {
            "text/plain": [
              "         r2       mse      mae              model\n",
              "0  0.520109  0.037655  0.17428  Linear Regression"
            ],
            "text/html": [
              "\n",
              "  <div id=\"df-fd2c6d18-fa13-4312-ba0c-1283cda5150f\">\n",
              "    <div class=\"colab-df-container\">\n",
              "      <div>\n",
              "<style scoped>\n",
              "    .dataframe tbody tr th:only-of-type {\n",
              "        vertical-align: middle;\n",
              "    }\n",
              "\n",
              "    .dataframe tbody tr th {\n",
              "        vertical-align: top;\n",
              "    }\n",
              "\n",
              "    .dataframe thead th {\n",
              "        text-align: right;\n",
              "    }\n",
              "</style>\n",
              "<table border=\"1\" class=\"dataframe\">\n",
              "  <thead>\n",
              "    <tr style=\"text-align: right;\">\n",
              "      <th></th>\n",
              "      <th>r2</th>\n",
              "      <th>mse</th>\n",
              "      <th>mae</th>\n",
              "      <th>model</th>\n",
              "    </tr>\n",
              "  </thead>\n",
              "  <tbody>\n",
              "    <tr>\n",
              "      <th>0</th>\n",
              "      <td>0.520109</td>\n",
              "      <td>0.037655</td>\n",
              "      <td>0.17428</td>\n",
              "      <td>Linear Regression</td>\n",
              "    </tr>\n",
              "  </tbody>\n",
              "</table>\n",
              "</div>\n",
              "      <button class=\"colab-df-convert\" onclick=\"convertToInteractive('df-fd2c6d18-fa13-4312-ba0c-1283cda5150f')\"\n",
              "              title=\"Convert this dataframe to an interactive table.\"\n",
              "              style=\"display:none;\">\n",
              "        \n",
              "  <svg xmlns=\"http://www.w3.org/2000/svg\" height=\"24px\"viewBox=\"0 0 24 24\"\n",
              "       width=\"24px\">\n",
              "    <path d=\"M0 0h24v24H0V0z\" fill=\"none\"/>\n",
              "    <path d=\"M18.56 5.44l.94 2.06.94-2.06 2.06-.94-2.06-.94-.94-2.06-.94 2.06-2.06.94zm-11 1L8.5 8.5l.94-2.06 2.06-.94-2.06-.94L8.5 2.5l-.94 2.06-2.06.94zm10 10l.94 2.06.94-2.06 2.06-.94-2.06-.94-.94-2.06-.94 2.06-2.06.94z\"/><path d=\"M17.41 7.96l-1.37-1.37c-.4-.4-.92-.59-1.43-.59-.52 0-1.04.2-1.43.59L10.3 9.45l-7.72 7.72c-.78.78-.78 2.05 0 2.83L4 21.41c.39.39.9.59 1.41.59.51 0 1.02-.2 1.41-.59l7.78-7.78 2.81-2.81c.8-.78.8-2.07 0-2.86zM5.41 20L4 18.59l7.72-7.72 1.47 1.35L5.41 20z\"/>\n",
              "  </svg>\n",
              "      </button>\n",
              "      \n",
              "  <style>\n",
              "    .colab-df-container {\n",
              "      display:flex;\n",
              "      flex-wrap:wrap;\n",
              "      gap: 12px;\n",
              "    }\n",
              "\n",
              "    .colab-df-convert {\n",
              "      background-color: #E8F0FE;\n",
              "      border: none;\n",
              "      border-radius: 50%;\n",
              "      cursor: pointer;\n",
              "      display: none;\n",
              "      fill: #1967D2;\n",
              "      height: 32px;\n",
              "      padding: 0 0 0 0;\n",
              "      width: 32px;\n",
              "    }\n",
              "\n",
              "    .colab-df-convert:hover {\n",
              "      background-color: #E2EBFA;\n",
              "      box-shadow: 0px 1px 2px rgba(60, 64, 67, 0.3), 0px 1px 3px 1px rgba(60, 64, 67, 0.15);\n",
              "      fill: #174EA6;\n",
              "    }\n",
              "\n",
              "    [theme=dark] .colab-df-convert {\n",
              "      background-color: #3B4455;\n",
              "      fill: #D2E3FC;\n",
              "    }\n",
              "\n",
              "    [theme=dark] .colab-df-convert:hover {\n",
              "      background-color: #434B5C;\n",
              "      box-shadow: 0px 1px 3px 1px rgba(0, 0, 0, 0.15);\n",
              "      filter: drop-shadow(0px 1px 2px rgba(0, 0, 0, 0.3));\n",
              "      fill: #FFFFFF;\n",
              "    }\n",
              "  </style>\n",
              "\n",
              "      <script>\n",
              "        const buttonEl =\n",
              "          document.querySelector('#df-fd2c6d18-fa13-4312-ba0c-1283cda5150f button.colab-df-convert');\n",
              "        buttonEl.style.display =\n",
              "          google.colab.kernel.accessAllowed ? 'block' : 'none';\n",
              "\n",
              "        async function convertToInteractive(key) {\n",
              "          const element = document.querySelector('#df-fd2c6d18-fa13-4312-ba0c-1283cda5150f');\n",
              "          const dataTable =\n",
              "            await google.colab.kernel.invokeFunction('convertToInteractive',\n",
              "                                                     [key], {});\n",
              "          if (!dataTable) return;\n",
              "\n",
              "          const docLinkHtml = 'Like what you see? Visit the ' +\n",
              "            '<a target=\"_blank\" href=https://colab.research.google.com/notebooks/data_table.ipynb>data table notebook</a>'\n",
              "            + ' to learn more about interactive tables.';\n",
              "          element.innerHTML = '';\n",
              "          dataTable['output_type'] = 'display_data';\n",
              "          await google.colab.output.renderOutput(dataTable, element);\n",
              "          const docLink = document.createElement('div');\n",
              "          docLink.innerHTML = docLinkHtml;\n",
              "          element.appendChild(docLink);\n",
              "        }\n",
              "      </script>\n",
              "    </div>\n",
              "  </div>\n",
              "  "
            ]
          },
          "metadata": {},
          "execution_count": 147
        }
      ]
    },
    {
      "cell_type": "code",
      "source": [
        "plt.scatter(model.predict(x_train), y_train, color=\"g\")\n",
        "plt.xlabel('Prediction')\n",
        "plt.ylabel('True')\n",
        "plt.show()"
      ],
      "metadata": {
        "colab": {
          "base_uri": "https://localhost:8080/",
          "height": 449
        },
        "id": "MP4HpicTmco-",
        "outputId": "f8d40a04-07de-41df-8143-9389530fcf69"
      },
      "execution_count": null,
      "outputs": [
        {
          "output_type": "display_data",
          "data": {
            "text/plain": [
              "<Figure size 640x480 with 1 Axes>"
            ],
            "image/png": "[encoded data removed]"
          },
          "metadata": {}
        }
      ]
    },
    {
      "cell_type": "markdown",
      "source": [
        "## PCA"
      ],
      "metadata": {
        "id": "oPeilEOdmp_s"
      }
    },
    {
      "cell_type": "code",
      "source": [
        "from sklearn.decomposition import PCA\n",
        "pca = PCA(n_components=4)\n",
        "fit = pca.fit(x_train)\n",
        "pd.DataFrame(fit.components_,columns=x_train.columns)"
      ],
      "metadata": {
        "colab": {
          "base_uri": "https://localhost:8080/",
          "height": 175
        },
        "id": "HmTVvTGwTcZb",
        "outputId": "91d95ecc-4f04-45f6-9675-fa6525985771"
      },
      "execution_count": null,
      "outputs": [
        {
          "output_type": "execute_result",
          "data": {
            "text/plain": [
              "   const       GDP         P        IR       CPI         W        IP  \\\n",
              "0    0.0 -0.401200 -0.411378  0.384797  0.056249 -0.364735 -0.387504   \n",
              "1   -0.0 -0.122804 -0.013869 -0.081596 -0.880422 -0.169693  0.051529   \n",
              "2   -0.0  0.178053 -0.018848  0.206446 -0.467562  0.330804 -0.224917   \n",
              "3   -0.0 -0.246573 -0.211350 -0.039244  0.046680  0.708608 -0.476424   \n",
              "\n",
              "         M2         R        OC  \n",
              "0 -0.374981  0.015536  0.307458  \n",
              "1 -0.236053  0.006063 -0.340171  \n",
              "2  0.395448  0.028330  0.624106  \n",
              "3 -0.060185  0.006719 -0.397544  "
            ],
            "text/html": [
              "\n",
              "  <div id=\"df-150cbbc6-6ab4-4098-af9b-48f5939bbfb0\">\n",
              "    <div class=\"colab-df-container\">\n",
              "      <div>\n",
              "<style scoped>\n",
              "    .dataframe tbody tr th:only-of-type {\n",
              "        vertical-align: middle;\n",
              "    }\n",
              "\n",
              "    .dataframe tbody tr th {\n",
              "        vertical-align: top;\n",
              "    }\n",
              "\n",
              "    .dataframe thead th {\n",
              "        text-align: right;\n",
              "    }\n",
              "</style>\n",
              "<table border=\"1\" class=\"dataframe\">\n",
              "  <thead>\n",
              "    <tr style=\"text-align: right;\">\n",
              "      <th></th>\n",
              "      <th>const</th>\n",
              "      <th>GDP</th>\n",
              "      <th>P</th>\n",
              "      <th>IR</th>\n",
              "      <th>CPI</th>\n",
              "      <th>W</th>\n",
              "      <th>IP</th>\n",
              "      <th>M2</th>\n",
              "      <th>R</th>\n",
              "      <th>OC</th>\n",
              "    </tr>\n",
              "  </thead>\n",
              "  <tbody>\n",
              "    <tr>\n",
              "      <th>0</th>\n",
              "      <td>0.0</td>\n",
              "      <td>-0.401200</td>\n",
              "      <td>-0.411378</td>\n",
              "      <td>0.384797</td>\n",
              "      <td>0.056249</td>\n",
              "      <td>-0.364735</td>\n",
              "      <td>-0.387504</td>\n",
              "      <td>-0.374981</td>\n",
              "      <td>0.015536</td>\n",
              "      <td>0.307458</td>\n",
              "    </tr>\n",
              "    <tr>\n",
              "      <th>1</th>\n",
              "      <td>-0.0</td>\n",
              "      <td>-0.122804</td>\n",
              "      <td>-0.013869</td>\n",
              "      <td>-0.081596</td>\n",
              "      <td>-0.880422</td>\n",
              "      <td>-0.169693</td>\n",
              "      <td>0.051529</td>\n",
              "      <td>-0.236053</td>\n",
              "      <td>0.006063</td>\n",
              "      <td>-0.340171</td>\n",
              "    </tr>\n",
              "    <tr>\n",
              "      <th>2</th>\n",
              "      <td>-0.0</td>\n",
              "      <td>0.178053</td>\n",
              "      <td>-0.018848</td>\n",
              "      <td>0.206446</td>\n",
              "      <td>-0.467562</td>\n",
              "      <td>0.330804</td>\n",
              "      <td>-0.224917</td>\n",
              "      <td>0.395448</td>\n",
              "      <td>0.028330</td>\n",
              "      <td>0.624106</td>\n",
              "    </tr>\n",
              "    <tr>\n",
              "      <th>3</th>\n",
              "      <td>-0.0</td>\n",
              "      <td>-0.246573</td>\n",
              "      <td>-0.211350</td>\n",
              "      <td>-0.039244</td>\n",
              "      <td>0.046680</td>\n",
              "      <td>0.708608</td>\n",
              "      <td>-0.476424</td>\n",
              "      <td>-0.060185</td>\n",
              "      <td>0.006719</td>\n",
              "      <td>-0.397544</td>\n",
              "    </tr>\n",
              "  </tbody>\n",
              "</table>\n",
              "</div>\n",
              "      <button class=\"colab-df-convert\" onclick=\"convertToInteractive('df-150cbbc6-6ab4-4098-af9b-48f5939bbfb0')\"\n",
              "              title=\"Convert this dataframe to an interactive table.\"\n",
              "              style=\"display:none;\">\n",
              "        \n",
              "  <svg xmlns=\"http://www.w3.org/2000/svg\" height=\"24px\"viewBox=\"0 0 24 24\"\n",
              "       width=\"24px\">\n",
              "    <path d=\"M0 0h24v24H0V0z\" fill=\"none\"/>\n",
              "    <path d=\"M18.56 5.44l.94 2.06.94-2.06 2.06-.94-2.06-.94-.94-2.06-.94 2.06-2.06.94zm-11 1L8.5 8.5l.94-2.06 2.06-.94-2.06-.94L8.5 2.5l-.94 2.06-2.06.94zm10 10l.94 2.06.94-2.06 2.06-.94-2.06-.94-.94-2.06-.94 2.06-2.06.94z\"/><path d=\"M17.41 7.96l-1.37-1.37c-.4-.4-.92-.59-1.43-.59-.52 0-1.04.2-1.43.59L10.3 9.45l-7.72 7.72c-.78.78-.78 2.05 0 2.83L4 21.41c.39.39.9.59 1.41.59.51 0 1.02-.2 1.41-.59l7.78-7.78 2.81-2.81c.8-.78.8-2.07 0-2.86zM5.41 20L4 18.59l7.72-7.72 1.47 1.35L5.41 20z\"/>\n",
              "  </svg>\n",
              "      </button>\n",
              "      \n",
              "  <style>\n",
              "    .colab-df-container {\n",
              "      display:flex;\n",
              "      flex-wrap:wrap;\n",
              "      gap: 12px;\n",
              "    }\n",
              "\n",
              "    .colab-df-convert {\n",
              "      background-color: #E8F0FE;\n",
              "      border: none;\n",
              "      border-radius: 50%;\n",
              "      cursor: pointer;\n",
              "      display: none;\n",
              "      fill: #1967D2;\n",
              "      height: 32px;\n",
              "      padding: 0 0 0 0;\n",
              "      width: 32px;\n",
              "    }\n",
              "\n",
              "    .colab-df-convert:hover {\n",
              "      background-color: #E2EBFA;\n",
              "      box-shadow: 0px 1px 2px rgba(60, 64, 67, 0.3), 0px 1px 3px 1px rgba(60, 64, 67, 0.15);\n",
              "      fill: #174EA6;\n",
              "    }\n",
              "\n",
              "    [theme=dark] .colab-df-convert {\n",
              "      background-color: #3B4455;\n",
              "      fill: #D2E3FC;\n",
              "    }\n",
              "\n",
              "    [theme=dark] .colab-df-convert:hover {\n",
              "      background-color: #434B5C;\n",
              "      box-shadow: 0px 1px 3px 1px rgba(0, 0, 0, 0.15);\n",
              "      filter: drop-shadow(0px 1px 2px rgba(0, 0, 0, 0.3));\n",
              "      fill: #FFFFFF;\n",
              "    }\n",
              "  </style>\n",
              "\n",
              "      <script>\n",
              "        const buttonEl =\n",
              "          document.querySelector('#df-150cbbc6-6ab4-4098-af9b-48f5939bbfb0 button.colab-df-convert');\n",
              "        buttonEl.style.display =\n",
              "          google.colab.kernel.accessAllowed ? 'block' : 'none';\n",
              "\n",
              "        async function convertToInteractive(key) {\n",
              "          const element = document.querySelector('#df-150cbbc6-6ab4-4098-af9b-48f5939bbfb0');\n",
              "          const dataTable =\n",
              "            await google.colab.kernel.invokeFunction('convertToInteractive',\n",
              "                                                     [key], {});\n",
              "          if (!dataTable) return;\n",
              "\n",
              "          const docLinkHtml = 'Like what you see? Visit the ' +\n",
              "            '<a target=\"_blank\" href=https://colab.research.google.com/notebooks/data_table.ipynb>data table notebook</a>'\n",
              "            + ' to learn more about interactive tables.';\n",
              "          element.innerHTML = '';\n",
              "          dataTable['output_type'] = 'display_data';\n",
              "          await google.colab.output.renderOutput(dataTable, element);\n",
              "          const docLink = document.createElement('div');\n",
              "          docLink.innerHTML = docLinkHtml;\n",
              "          element.appendChild(docLink);\n",
              "        }\n",
              "      </script>\n",
              "    </div>\n",
              "  </div>\n",
              "  "
            ]
          },
          "metadata": {},
          "execution_count": 148
        }
      ]
    },
    {
      "cell_type": "code",
      "source": [
        "x_pca = pca.fit_transform(x_train)\n",
        "model = sm.OLS(y_train, x_pca).fit()\n",
        "y_pred = model.predict(pca.transform(x_test)) \n",
        "model.summary()"
      ],
      "metadata": {
        "colab": {
          "base_uri": "https://localhost:8080/",
          "height": 512
        },
        "id": "d9jZGtINXgHe",
        "outputId": "c90309ff-748b-4162-c515-89e9c04b0f46"
      },
      "execution_count": null,
      "outputs": [
        {
          "output_type": "execute_result",
          "data": {
            "text/plain": [
              "<class 'statsmodels.iolib.summary.Summary'>\n",
              "\"\"\"\n",
              "                                 OLS Regression Results                                \n",
              "=======================================================================================\n",
              "Dep. Variable:                      y   R-squared (uncentered):                   0.007\n",
              "Model:                            OLS   Adj. R-squared (uncentered):             -0.003\n",
              "Method:                 Least Squares   F-statistic:                             0.6915\n",
              "Date:                Tue, 02 May 2023   Prob (F-statistic):                       0.598\n",
              "Time:                        19:35:49   Log-Likelihood:                         -788.51\n",
              "No. Observations:                 395   AIC:                                      1585.\n",
              "Df Residuals:                     391   BIC:                                      1601.\n",
              "Df Model:                           4                                                  \n",
              "Covariance Type:            nonrobust                                                  \n",
              "==============================================================================\n",
              "                 coef    std err          t      P>|t|      [0.025      0.975]\n",
              "------------------------------------------------------------------------------\n",
              "x1             0.0402      0.037      1.083      0.280      -0.033       0.113\n",
              "x2             0.0349      0.082      0.427      0.669      -0.126       0.195\n",
              "x3             0.0045      0.109      0.042      0.967      -0.209       0.218\n",
              "x4             0.2301      0.194      1.187      0.236      -0.151       0.611\n",
              "==============================================================================\n",
              "Omnibus:                       25.035   Durbin-Watson:                   0.036\n",
              "Prob(Omnibus):                  0.000   Jarque-Bera (JB):               28.554\n",
              "Skew:                           0.651   Prob(JB):                     6.30e-07\n",
              "Kurtosis:                       2.797   Cond. No.                         5.22\n",
              "==============================================================================\n",
              "\n",
              "Notes:\n",
              "[1] R² is computed without centering (uncentered) since the model does not contain a constant.\n",
              "[2] Standard Errors assume that the covariance matrix of the errors is correctly specified.\n",
              "\"\"\""
            ],
            "text/html": [
              "<table class=\"simpletable\">\n",
              "<caption>OLS Regression Results</caption>\n",
              "<tr>\n",
              "  <th>Dep. Variable:</th>            <td>y</td>        <th>  R-squared (uncentered):</th>      <td>   0.007</td>\n",
              "</tr>\n",
              "<tr>\n",
              "  <th>Model:</th>                   <td>OLS</td>       <th>  Adj. R-squared (uncentered):</th> <td>  -0.003</td>\n",
              "</tr>\n",
              "<tr>\n",
              "  <th>Method:</th>             <td>Least Squares</td>  <th>  F-statistic:       </th>          <td>  0.6915</td>\n",
              "</tr>\n",
              "<tr>\n",
              "  <th>Date:</th>             <td>Tue, 02 May 2023</td> <th>  Prob (F-statistic):</th>           <td> 0.598</td> \n",
              "</tr>\n",
              "<tr>\n",
              "  <th>Time:</th>                 <td>19:35:49</td>     <th>  Log-Likelihood:    </th>          <td> -788.51</td>\n",
              "</tr>\n",
              "<tr>\n",
              "  <th>No. Observations:</th>      <td>   395</td>      <th>  AIC:               </th>          <td>   1585.</td>\n",
              "</tr>\n",
              "<tr>\n",
              "  <th>Df Residuals:</th>          <td>   391</td>      <th>  BIC:               </th>          <td>   1601.</td>\n",
              "</tr>\n",
              "<tr>\n",
              "  <th>Df Model:</th>              <td>     4</td>      <th>                     </th>              <td> </td>   \n",
              "</tr>\n",
              "<tr>\n",
              "  <th>Covariance Type:</th>      <td>nonrobust</td>    <th>                     </th>              <td> </td>   \n",
              "</tr>\n",
              "</table>\n",
              "<table class=\"simpletable\">\n",
              "<tr>\n",
              "   <td></td>     <th>coef</th>     <th>std err</th>      <th>t</th>      <th>P>|t|</th>  <th>[0.025</th>    <th>0.975]</th>  \n",
              "</tr>\n",
              "<tr>\n",
              "  <th>x1</th> <td>    0.0402</td> <td>    0.037</td> <td>    1.083</td> <td> 0.280</td> <td>   -0.033</td> <td>    0.113</td>\n",
              "</tr>\n",
              "<tr>\n",
              "  <th>x2</th> <td>    0.0349</td> <td>    0.082</td> <td>    0.427</td> <td> 0.669</td> <td>   -0.126</td> <td>    0.195</td>\n",
              "</tr>\n",
              "<tr>\n",
              "  <th>x3</th> <td>    0.0045</td> <td>    0.109</td> <td>    0.042</td> <td> 0.967</td> <td>   -0.209</td> <td>    0.218</td>\n",
              "</tr>\n",
              "<tr>\n",
              "  <th>x4</th> <td>    0.2301</td> <td>    0.194</td> <td>    1.187</td> <td> 0.236</td> <td>   -0.151</td> <td>    0.611</td>\n",
              "</tr>\n",
              "</table>\n",
              "<table class=\"simpletable\">\n",
              "<tr>\n",
              "  <th>Omnibus:</th>       <td>25.035</td> <th>  Durbin-Watson:     </th> <td>   0.036</td>\n",
              "</tr>\n",
              "<tr>\n",
              "  <th>Prob(Omnibus):</th> <td> 0.000</td> <th>  Jarque-Bera (JB):  </th> <td>  28.554</td>\n",
              "</tr>\n",
              "<tr>\n",
              "  <th>Skew:</th>          <td> 0.651</td> <th>  Prob(JB):          </th> <td>6.30e-07</td>\n",
              "</tr>\n",
              "<tr>\n",
              "  <th>Kurtosis:</th>      <td> 2.797</td> <th>  Cond. No.          </th> <td>    5.22</td>\n",
              "</tr>\n",
              "</table><br/><br/>Notes:<br/>[1] R² is computed without centering (uncentered) since the model does not contain a constant.<br/>[2] Standard Errors assume that the covariance matrix of the errors is correctly specified."
            ]
          },
          "metadata": {},
          "execution_count": 149
        }
      ]
    },
    {
      "cell_type": "code",
      "source": [
        "results = results.append({'r2': r2_score(y_test, y_pred), \n",
        "                'mse': mean_squared_error(y_test,y_pred), \n",
        "                'mae': mean_absolute_error(y_test,y_pred),\n",
        "                'model': 'Linear Regression + PCA',}, ignore_index = True)\n"
      ],
      "metadata": {
        "colab": {
          "base_uri": "https://localhost:8080/"
        },
        "id": "5vxLJdvDX56s",
        "outputId": "5d642961-0fae-4263-f15b-54680603df82"
      },
      "execution_count": null,
      "outputs": [
        {
          "output_type": "stream",
          "name": "stderr",
          "text": [
            "<ipython-input-150-23fbed14d7a8>:1: FutureWarning: The frame.append method is deprecated and will be removed from pandas in a future version. Use pandas.concat instead.\n",
            "  results = results.append({'r2': r2_score(y_test, y_pred),\n"
          ]
        }
      ]
    },
    {
      "cell_type": "markdown",
      "source": [
        "PCA does not apply to small dataset, try Bootstrap instead."
      ],
      "metadata": {
        "id": "NkwKruNNmsEE"
      }
    },
    {
      "cell_type": "markdown",
      "source": [
        "## Bootstrap"
      ],
      "metadata": {
        "id": "Bz0uBDpcf996"
      }
    },
    {
      "cell_type": "code",
      "source": [
        "from numpy.random import rand, randn, choice\n",
        "from sklearn.utils import resample"
      ],
      "metadata": {
        "id": "Ta-kj1zXgAfc"
      },
      "execution_count": null,
      "outputs": []
    },
    {
      "cell_type": "code",
      "source": [
        "stats = list()\n",
        "models = list()\n",
        "for i in range(1000):\n",
        "    #prepare train & test sets\n",
        "    sample_train_x, sample_train_y = resample(x_train.values, y_train.values, n_samples = 190) \n",
        "    sample_test_x, sample_test_y = resample(x_test.values, y_test.values, n_samples = 50) \n",
        "  \n",
        "    #fit model\n",
        "    # model = LinearRegression()\n",
        "    # model.fit(sample_train_x, sample_train_y)\n",
        "    # models.append(model)\n",
        "    wi = np.linalg.lstsq(sample_train_x, sample_train_y, rcond=None)[0]\n",
        "    models.append(wi)\n",
        "    pred = sample_test_x @ wi\n",
        "    score = r2_score(sample_test_y, pred)\n",
        "    stats.append(score)"
      ],
      "metadata": {
        "id": "p37BT7eogxUu"
      },
      "execution_count": null,
      "outputs": []
    },
    {
      "cell_type": "code",
      "source": [
        "plt.hist(stats)\n",
        "plt.figure(figsize = (10,5))"
      ],
      "metadata": {
        "colab": {
          "base_uri": "https://localhost:8080/",
          "height": 466
        },
        "id": "ketDxlNWi4Kj",
        "outputId": "e6f14728-7489-4299-88b0-58152968ce69"
      },
      "execution_count": null,
      "outputs": [
        {
          "output_type": "execute_result",
          "data": {
            "text/plain": [
              "<Figure size 1000x500 with 0 Axes>"
            ]
          },
          "metadata": {},
          "execution_count": 160
        },
        {
          "output_type": "display_data",
          "data": {
            "text/plain": [
              "<Figure size 640x480 with 1 Axes>"
            ],
            "image/png": "[encoded data removed]"
          },
          "metadata": {}
        },
        {
          "output_type": "display_data",
          "data": {
            "text/plain": [
              "<Figure size 1000x500 with 0 Axes>"
            ]
          },
          "metadata": {}
        }
      ]
    },
    {
      "cell_type": "code",
      "source": [
        "w = np.mean(models, axis=0)\n",
        "y_pred = x_test @ w"
      ],
      "metadata": {
        "id": "LF-bDTQcjXBk"
      },
      "execution_count": null,
      "outputs": []
    },
    {
      "cell_type": "code",
      "source": [
        "r2_score(y_test, y_pred)"
      ],
      "metadata": {
        "colab": {
          "base_uri": "https://localhost:8080/"
        },
        "id": "jKCFwIu5sr7f",
        "outputId": "69bc1114-11e7-495f-cffb-cdbe8e519976"
      },
      "execution_count": null,
      "outputs": [
        {
          "output_type": "execute_result",
          "data": {
            "text/plain": [
              "0.5196834195885616"
            ]
          },
          "metadata": {},
          "execution_count": 162
        }
      ]
    },
    {
      "cell_type": "code",
      "source": [
        "results = results.append({'r2': r2_score(y_test, y_pred), \n",
        "                'mse': mean_squared_error(y_test,y_pred), \n",
        "                'mae': mean_absolute_error(y_test,y_pred),\n",
        "                'model': 'Linear Regression + Bootstrap',}, ignore_index = True)\n"
      ],
      "metadata": {
        "colab": {
          "base_uri": "https://localhost:8080/"
        },
        "id": "jYyu1Ma0kxBA",
        "outputId": "b140e9ad-f385-4e41-db87-993a72a1c6d8"
      },
      "execution_count": null,
      "outputs": [
        {
          "output_type": "stream",
          "name": "stderr",
          "text": [
            "<ipython-input-154-bd1f92de631e>:1: FutureWarning: The frame.append method is deprecated and will be removed from pandas in a future version. Use pandas.concat instead.\n",
            "  results = results.append({'r2': r2_score(y_test, y_pred),\n"
          ]
        }
      ]
    },
    {
      "cell_type": "markdown",
      "source": [
        "Slightly better."
      ],
      "metadata": {
        "id": "gBvch1r_m0QM"
      }
    },
    {
      "cell_type": "markdown",
      "source": [
        "# 3. Support Vector Regression\n"
      ],
      "metadata": {
        "id": "0_5KDP9HOLmR"
      }
    },
    {
      "cell_type": "code",
      "source": [
        "from sklearn.svm import SVR\n"
      ],
      "metadata": {
        "id": "wsKohs_qnNF8"
      },
      "execution_count": null,
      "outputs": []
    },
    {
      "cell_type": "code",
      "source": [
        "regressor = SVR(kernel='rbf')\n",
        "regressor.fit(x_train, y_train)\n",
        "y_pred = regressor.predict(x_test)"
      ],
      "metadata": {
        "id": "5hbTIhh5nwGc"
      },
      "execution_count": null,
      "outputs": []
    },
    {
      "cell_type": "code",
      "source": [
        "results = results.append({'r2': r2_score(y_test, y_pred), \n",
        "                'mse': mean_squared_error(y_test,y_pred), \n",
        "                'mae': mean_absolute_error(y_test,y_pred),\n",
        "                'model': 'SVR',}, ignore_index = True)\n"
      ],
      "metadata": {
        "colab": {
          "base_uri": "https://localhost:8080/"
        },
        "id": "2KeCaJFYn3R0",
        "outputId": "b843d60f-c540-4f12-d357-48d95e2d4125"
      },
      "execution_count": null,
      "outputs": [
        {
          "output_type": "stream",
          "name": "stderr",
          "text": [
            "<ipython-input-156-243812c5f5a4>:1: FutureWarning: The frame.append method is deprecated and will be removed from pandas in a future version. Use pandas.concat instead.\n",
            "  results = results.append({'r2': r2_score(y_test, y_pred),\n"
          ]
        }
      ]
    },
    {
      "cell_type": "code",
      "source": [
        "results.set_index('model')"
      ],
      "metadata": {
        "colab": {
          "base_uri": "https://localhost:8080/",
          "height": 206
        },
        "id": "8YyrzRxasUyT",
        "outputId": "678884ff-e315-4b19-acbb-d2227b538ca5"
      },
      "execution_count": null,
      "outputs": [
        {
          "output_type": "execute_result",
          "data": {
            "text/plain": [
              "                                      r2       mse       mae\n",
              "model                                                       \n",
              "Linear Regression               0.520109  0.037655  0.174280\n",
              "Linear Regression + PCA       -40.865381  3.284962  1.791719\n",
              "Linear Regression + Bootstrap   0.519998  0.037663  0.174497\n",
              "SVR                             0.936647  0.004971  0.056622"
            ],
            "text/html": [
              "\n",
              "  <div id=\"df-a2e18c8d-b522-483a-9e78-34a856fb0c8c\">\n",
              "    <div class=\"colab-df-container\">\n",
              "      <div>\n",
              "<style scoped>\n",
              "    .dataframe tbody tr th:only-of-type {\n",
              "        vertical-align: middle;\n",
              "    }\n",
              "\n",
              "    .dataframe tbody tr th {\n",
              "        vertical-align: top;\n",
              "    }\n",
              "\n",
              "    .dataframe thead th {\n",
              "        text-align: right;\n",
              "    }\n",
              "</style>\n",
              "<table border=\"1\" class=\"dataframe\">\n",
              "  <thead>\n",
              "    <tr style=\"text-align: right;\">\n",
              "      <th></th>\n",
              "      <th>r2</th>\n",
              "      <th>mse</th>\n",
              "      <th>mae</th>\n",
              "    </tr>\n",
              "    <tr>\n",
              "      <th>model</th>\n",
              "      <th></th>\n",
              "      <th></th>\n",
              "      <th></th>\n",
              "    </tr>\n",
              "  </thead>\n",
              "  <tbody>\n",
              "    <tr>\n",
              "      <th>Linear Regression</th>\n",
              "      <td>0.520109</td>\n",
              "      <td>0.037655</td>\n",
              "      <td>0.174280</td>\n",
              "    </tr>\n",
              "    <tr>\n",
              "      <th>Linear Regression + PCA</th>\n",
              "      <td>-40.865381</td>\n",
              "      <td>3.284962</td>\n",
              "      <td>1.791719</td>\n",
              "    </tr>\n",
              "    <tr>\n",
              "      <th>Linear Regression + Bootstrap</th>\n",
              "      <td>0.519998</td>\n",
              "      <td>0.037663</td>\n",
              "      <td>0.174497</td>\n",
              "    </tr>\n",
              "    <tr>\n",
              "      <th>SVR</th>\n",
              "      <td>0.936647</td>\n",
              "      <td>0.004971</td>\n",
              "      <td>0.056622</td>\n",
              "    </tr>\n",
              "  </tbody>\n",
              "</table>\n",
              "</div>\n",
              "      <button class=\"colab-df-convert\" onclick=\"convertToInteractive('df-a2e18c8d-b522-483a-9e78-34a856fb0c8c')\"\n",
              "              title=\"Convert this dataframe to an interactive table.\"\n",
              "              style=\"display:none;\">\n",
              "        \n",
              "  <svg xmlns=\"http://www.w3.org/2000/svg\" height=\"24px\"viewBox=\"0 0 24 24\"\n",
              "       width=\"24px\">\n",
              "    <path d=\"M0 0h24v24H0V0z\" fill=\"none\"/>\n",
              "    <path d=\"M18.56 5.44l.94 2.06.94-2.06 2.06-.94-2.06-.94-.94-2.06-.94 2.06-2.06.94zm-11 1L8.5 8.5l.94-2.06 2.06-.94-2.06-.94L8.5 2.5l-.94 2.06-2.06.94zm10 10l.94 2.06.94-2.06 2.06-.94-2.06-.94-.94-2.06-.94 2.06-2.06.94z\"/><path d=\"M17.41 7.96l-1.37-1.37c-.4-.4-.92-.59-1.43-.59-.52 0-1.04.2-1.43.59L10.3 9.45l-7.72 7.72c-.78.78-.78 2.05 0 2.83L4 21.41c.39.39.9.59 1.41.59.51 0 1.02-.2 1.41-.59l7.78-7.78 2.81-2.81c.8-.78.8-2.07 0-2.86zM5.41 20L4 18.59l7.72-7.72 1.47 1.35L5.41 20z\"/>\n",
              "  </svg>\n",
              "      </button>\n",
              "      \n",
              "  <style>\n",
              "    .colab-df-container {\n",
              "      display:flex;\n",
              "      flex-wrap:wrap;\n",
              "      gap: 12px;\n",
              "    }\n",
              "\n",
              "    .colab-df-convert {\n",
              "      background-color: #E8F0FE;\n",
              "      border: none;\n",
              "      border-radius: 50%;\n",
              "      cursor: pointer;\n",
              "      display: none;\n",
              "      fill: #1967D2;\n",
              "      height: 32px;\n",
              "      padding: 0 0 0 0;\n",
              "      width: 32px;\n",
              "    }\n",
              "\n",
              "    .colab-df-convert:hover {\n",
              "      background-color: #E2EBFA;\n",
              "      box-shadow: 0px 1px 2px rgba(60, 64, 67, 0.3), 0px 1px 3px 1px rgba(60, 64, 67, 0.15);\n",
              "      fill: #174EA6;\n",
              "    }\n",
              "\n",
              "    [theme=dark] .colab-df-convert {\n",
              "      background-color: #3B4455;\n",
              "      fill: #D2E3FC;\n",
              "    }\n",
              "\n",
              "    [theme=dark] .colab-df-convert:hover {\n",
              "      background-color: #434B5C;\n",
              "      box-shadow: 0px 1px 3px 1px rgba(0, 0, 0, 0.15);\n",
              "      filter: drop-shadow(0px 1px 2px rgba(0, 0, 0, 0.3));\n",
              "      fill: #FFFFFF;\n",
              "    }\n",
              "  </style>\n",
              "\n",
              "      <script>\n",
              "        const buttonEl =\n",
              "          document.querySelector('#df-a2e18c8d-b522-483a-9e78-34a856fb0c8c button.colab-df-convert');\n",
              "        buttonEl.style.display =\n",
              "          google.colab.kernel.accessAllowed ? 'block' : 'none';\n",
              "\n",
              "        async function convertToInteractive(key) {\n",
              "          const element = document.querySelector('#df-a2e18c8d-b522-483a-9e78-34a856fb0c8c');\n",
              "          const dataTable =\n",
              "            await google.colab.kernel.invokeFunction('convertToInteractive',\n",
              "                                                     [key], {});\n",
              "          if (!dataTable) return;\n",
              "\n",
              "          const docLinkHtml = 'Like what you see? Visit the ' +\n",
              "            '<a target=\"_blank\" href=https://colab.research.google.com/notebooks/data_table.ipynb>data table notebook</a>'\n",
              "            + ' to learn more about interactive tables.';\n",
              "          element.innerHTML = '';\n",
              "          dataTable['output_type'] = 'display_data';\n",
              "          await google.colab.output.renderOutput(dataTable, element);\n",
              "          const docLink = document.createElement('div');\n",
              "          docLink.innerHTML = docLinkHtml;\n",
              "          element.appendChild(docLink);\n",
              "        }\n",
              "      </script>\n",
              "    </div>\n",
              "  </div>\n",
              "  "
            ]
          },
          "metadata": {},
          "execution_count": 157
        }
      ]
    },
    {
      "cell_type": "markdown",
      "source": [
        "SVM performs better than Linear Regression."
      ],
      "metadata": {
        "id": "BiMgWlOIpUFP"
      }
    },
    {
      "cell_type": "code",
      "source": [
        "plt.scatter(data.iloc[:len(x_train),:][\"date\"], y_train, color=\"c\")\n",
        "plt.plot(data.iloc[:len(x_train),:][\"date\"], regressor.predict(x_train), color=\"g\")\n",
        "plt.title('Support Vector Regression Model')\n",
        "plt.xlabel('date')\n",
        "plt.ylabel('unemployment rate')\n",
        "plt.show()"
      ],
      "metadata": {
        "colab": {
          "base_uri": "https://localhost:8080/",
          "height": 472
        },
        "id": "_d4jt5UlObQR",
        "outputId": "d08655cd-20ef-4463-e369-d4f95f2a0ae5"
      },
      "execution_count": null,
      "outputs": [
        {
          "output_type": "display_data",
          "data": {
            "text/plain": [
              "<Figure size 640x480 with 1 Axes>"
            ],
            "image/png": "[encoded data removed]"
          },
          "metadata": {}
        }
      ]
    },
    {
      "cell_type": "code",
      "source": [
        "plt.scatter(regressor.predict(x_train), y_train, color=\"g\")\n",
        "plt.xlabel('Prediction')\n",
        "plt.ylabel('True')\n",
        "plt.show()"
      ],
      "metadata": {
        "colab": {
          "base_uri": "https://localhost:8080/",
          "height": 449
        },
        "id": "qIMn-WGolIKF",
        "outputId": "1070b958-972a-4423-a22e-66845803690e"
      },
      "execution_count": null,
      "outputs": [
        {
          "output_type": "display_data",
          "data": {
            "text/plain": [
              "<Figure size 640x480 with 1 Axes>"
            ],
            "image/png": "[encoded data removed]"
          },
          "metadata": {}
        }
      ]
    },
    {
      "cell_type": "code",
      "source": [
        "results"
      ],
      "metadata": {
        "id": "Te810Nx3OecZ",
        "colab": {
          "base_uri": "https://localhost:8080/",
          "height": 175
        },
        "outputId": "bef53494-4b81-4ec8-ea8d-ec4bbf1172a5"
      },
      "execution_count": null,
      "outputs": [
        {
          "output_type": "execute_result",
          "data": {
            "text/plain": [
              "          r2       mse       mae                          model\n",
              "0   0.520109  0.037655  0.174280              Linear Regression\n",
              "1 -40.865381  3.284962  1.791719        Linear Regression + PCA\n",
              "2   0.519998  0.037663  0.174497  Linear Regression + Bootstrap\n",
              "3   0.936647  0.004971  0.056622                            SVR"
            ],
            "text/html": [
              "\n",
              "  <div id=\"df-e72757e7-3c71-4e50-aaf4-7d703016b6b3\">\n",
              "    <div class=\"colab-df-container\">\n",
              "      <div>\n",
              "<style scoped>\n",
              "    .dataframe tbody tr th:only-of-type {\n",
              "        vertical-align: middle;\n",
              "    }\n",
              "\n",
              "    .dataframe tbody tr th {\n",
              "        vertical-align: top;\n",
              "    }\n",
              "\n",
              "    .dataframe thead th {\n",
              "        text-align: right;\n",
              "    }\n",
              "</style>\n",
              "<table border=\"1\" class=\"dataframe\">\n",
              "  <thead>\n",
              "    <tr style=\"text-align: right;\">\n",
              "      <th></th>\n",
              "      <th>r2</th>\n",
              "      <th>mse</th>\n",
              "      <th>mae</th>\n",
              "      <th>model</th>\n",
              "    </tr>\n",
              "  </thead>\n",
              "  <tbody>\n",
              "    <tr>\n",
              "      <th>0</th>\n",
              "      <td>0.520109</td>\n",
              "      <td>0.037655</td>\n",
              "      <td>0.174280</td>\n",
              "      <td>Linear Regression</td>\n",
              "    </tr>\n",
              "    <tr>\n",
              "      <th>1</th>\n",
              "      <td>-40.865381</td>\n",
              "      <td>3.284962</td>\n",
              "      <td>1.791719</td>\n",
              "      <td>Linear Regression + PCA</td>\n",
              "    </tr>\n",
              "    <tr>\n",
              "      <th>2</th>\n",
              "      <td>0.519998</td>\n",
              "      <td>0.037663</td>\n",
              "      <td>0.174497</td>\n",
              "      <td>Linear Regression + Bootstrap</td>\n",
              "    </tr>\n",
              "    <tr>\n",
              "      <th>3</th>\n",
              "      <td>0.936647</td>\n",
              "      <td>0.004971</td>\n",
              "      <td>0.056622</td>\n",
              "      <td>SVR</td>\n",
              "    </tr>\n",
              "  </tbody>\n",
              "</table>\n",
              "</div>\n",
              "      <button class=\"colab-df-convert\" onclick=\"convertToInteractive('df-e72757e7-3c71-4e50-aaf4-7d703016b6b3')\"\n",
              "              title=\"Convert this dataframe to an interactive table.\"\n",
              "              style=\"display:none;\">\n",
              "        \n",
              "  <svg xmlns=\"http://www.w3.org/2000/svg\" height=\"24px\"viewBox=\"0 0 24 24\"\n",
              "       width=\"24px\">\n",
              "    <path d=\"M0 0h24v24H0V0z\" fill=\"none\"/>\n",
              "    <path d=\"M18.56 5.44l.94 2.06.94-2.06 2.06-.94-2.06-.94-.94-2.06-.94 2.06-2.06.94zm-11 1L8.5 8.5l.94-2.06 2.06-.94-2.06-.94L8.5 2.5l-.94 2.06-2.06.94zm10 10l.94 2.06.94-2.06 2.06-.94-2.06-.94-.94-2.06-.94 2.06-2.06.94z\"/><path d=\"M17.41 7.96l-1.37-1.37c-.4-.4-.92-.59-1.43-.59-.52 0-1.04.2-1.43.59L10.3 9.45l-7.72 7.72c-.78.78-.78 2.05 0 2.83L4 21.41c.39.39.9.59 1.41.59.51 0 1.02-.2 1.41-.59l7.78-7.78 2.81-2.81c.8-.78.8-2.07 0-2.86zM5.41 20L4 18.59l7.72-7.72 1.47 1.35L5.41 20z\"/>\n",
              "  </svg>\n",
              "      </button>\n",
              "      \n",
              "  <style>\n",
              "    .colab-df-container {\n",
              "      display:flex;\n",
              "      flex-wrap:wrap;\n",
              "      gap: 12px;\n",
              "    }\n",
              "\n",
              "    .colab-df-convert {\n",
              "      background-color: #E8F0FE;\n",
              "      border: none;\n",
              "      border-radius: 50%;\n",
              "      cursor: pointer;\n",
              "      display: none;\n",
              "      fill: #1967D2;\n",
              "      height: 32px;\n",
              "      padding: 0 0 0 0;\n",
              "      width: 32px;\n",
              "    }\n",
              "\n",
              "    .colab-df-convert:hover {\n",
              "      background-color: #E2EBFA;\n",
              "      box-shadow: 0px 1px 2px rgba(60, 64, 67, 0.3), 0px 1px 3px 1px rgba(60, 64, 67, 0.15);\n",
              "      fill: #174EA6;\n",
              "    }\n",
              "\n",
              "    [theme=dark] .colab-df-convert {\n",
              "      background-color: #3B4455;\n",
              "      fill: #D2E3FC;\n",
              "    }\n",
              "\n",
              "    [theme=dark] .colab-df-convert:hover {\n",
              "      background-color: #434B5C;\n",
              "      box-shadow: 0px 1px 3px 1px rgba(0, 0, 0, 0.15);\n",
              "      filter: drop-shadow(0px 1px 2px rgba(0, 0, 0, 0.3));\n",
              "      fill: #FFFFFF;\n",
              "    }\n",
              "  </style>\n",
              "\n",
              "      <script>\n",
              "        const buttonEl =\n",
              "          document.querySelector('#df-e72757e7-3c71-4e50-aaf4-7d703016b6b3 button.colab-df-convert');\n",
              "        buttonEl.style.display =\n",
              "          google.colab.kernel.accessAllowed ? 'block' : 'none';\n",
              "\n",
              "        async function convertToInteractive(key) {\n",
              "          const element = document.querySelector('#df-e72757e7-3c71-4e50-aaf4-7d703016b6b3');\n",
              "          const dataTable =\n",
              "            await google.colab.kernel.invokeFunction('convertToInteractive',\n",
              "                                                     [key], {});\n",
              "          if (!dataTable) return;\n",
              "\n",
              "          const docLinkHtml = 'Like what you see? Visit the ' +\n",
              "            '<a target=\"_blank\" href=https://colab.research.google.com/notebooks/data_table.ipynb>data table notebook</a>'\n",
              "            + ' to learn more about interactive tables.';\n",
              "          element.innerHTML = '';\n",
              "          dataTable['output_type'] = 'display_data';\n",
              "          await google.colab.output.renderOutput(dataTable, element);\n",
              "          const docLink = document.createElement('div');\n",
              "          docLink.innerHTML = docLinkHtml;\n",
              "          element.appendChild(docLink);\n",
              "        }\n",
              "      </script>\n",
              "    </div>\n",
              "  </div>\n",
              "  "
            ]
          },
          "metadata": {},
          "execution_count": 158
        }
      ]
    },
    {
      "cell_type": "markdown",
      "source": [
        "# Gender Analysis"
      ],
      "metadata": {
        "id": "IvHM4MxQLGVX"
      }
    },
    {
      "cell_type": "code",
      "source": [
        "plt.plot(ym.date, ym.ym, color='b', label=\"Men\")\n",
        "plt.plot(yw.date, yw.yw, color='r', label=\"Women\")\n",
        "# plt.plot(y.date, y.y, color='c', label=\"Unemployment rate\")\n",
        "plt.title(\"Unemployment Rate\")\n",
        "plt.xlabel(\"date\")\n",
        "plt.legend()"
      ],
      "metadata": {
        "colab": {
          "base_uri": "https://localhost:8080/",
          "height": 490
        },
        "id": "TKvW3Zs-LHx2",
        "outputId": "fec8afc1-31d7-45a2-f965-b621706024cf"
      },
      "execution_count": null,
      "outputs": [
        {
          "output_type": "execute_result",
          "data": {
            "text/plain": [
              "<matplotlib.legend.Legend at 0x7f1012818340>"
            ]
          },
          "metadata": {},
          "execution_count": 114
        },
        {
          "output_type": "display_data",
          "data": {
            "text/plain": [
              "<Figure size 640x480 with 1 Axes>"
            ],
            "image/png": "[encoded data removed]"
          },
          "metadata": {}
        }
      ]
    },
    {
      "cell_type": "code",
      "source": [
        "ym['gender'] = 1 # Men\n",
        "yw['gender'] = 0 # Women\n",
        "yw.columns = [\"date\", \"y\", \"gender\"]\n",
        "ym.columns = [\"date\", \"y\", \"gender\"]\n",
        "ds = pd.concat([yw, ym], axis=0)"
      ],
      "metadata": {
        "id": "bkz-QbTHLILZ"
      },
      "execution_count": null,
      "outputs": []
    },
    {
      "cell_type": "code",
      "source": [
        "ds.y = np.log(ds.y)"
      ],
      "metadata": {
        "id": "J0wl4a5h6fSi"
      },
      "execution_count": null,
      "outputs": []
    },
    {
      "cell_type": "code",
      "source": [
        "for df in [GDP, P, IR, CPI, W, IP, M2, R, OC]:\n",
        "  ds = pd.merge(ds, df, on=\"date\", how=\"left\")\n",
        "ds.fillna(method='ffill', inplace=True)\n",
        "ds.index = ds['date']\n",
        "del ds['date']\n",
        "ds.sort_index(inplace=True)"
      ],
      "metadata": {
        "id": "wXs-91utnF47"
      },
      "execution_count": null,
      "outputs": []
    },
    {
      "cell_type": "code",
      "source": [
        "ds"
      ],
      "metadata": {
        "colab": {
          "base_uri": "https://localhost:8080/",
          "height": 673
        },
        "id": "UG2ssQfOnI7U",
        "outputId": "12092a4e-1179-4a51-99d1-21fc18c21842"
      },
      "execution_count": null,
      "outputs": [
        {
          "output_type": "execute_result",
          "data": {
            "text/plain": [
              "                   y  gender       GDP         P        IR       CPI  \\\n",
              "date                                                                   \n",
              "1982-01-01  2.140066       0 -1.417519 -1.684400  2.757811  0.250303   \n",
              "1982-01-01  2.163323       1 -1.417519 -1.684400  2.757811  0.250303   \n",
              "1982-02-01  2.186051       0 -1.417519 -1.679572  2.775386  0.247235   \n",
              "1982-02-01  2.174752       1 -1.417519 -1.679572  2.775386  0.247235   \n",
              "1982-03-01  2.186051       0 -1.417519 -1.674468  2.493576 -1.033366   \n",
              "...              ...     ...       ...       ...       ...       ...   \n",
              "2022-12-01  1.280934       0  2.312355  1.488443 -0.472097 -1.641579   \n",
              "2023-01-01  1.280934       1  2.365842  1.491917 -0.361556  1.701751   \n",
              "2023-01-01  1.193922       0  2.365842  1.491917 -0.361556  1.701751   \n",
              "2023-02-01  1.252763       0  2.365842  1.495115 -0.555372  0.972608   \n",
              "2023-02-01  1.280934       1  2.365842  1.495115 -0.555372  0.972608   \n",
              "\n",
              "                   W        IP        M2  R        OC  \n",
              "date                                                   \n",
              "1982-01-01 -1.255432 -1.890368 -1.078808  1  2.211851  \n",
              "1982-01-01 -1.255432 -1.890368 -1.078808  1  2.211851  \n",
              "1982-02-01 -1.255432 -1.835001 -1.078014  0  2.090539  \n",
              "1982-02-01 -1.255432 -1.835001 -1.078014  0  2.090539  \n",
              "1982-03-01 -1.255432 -1.853629 -1.075691  1  1.954983  \n",
              "...              ...       ...       ... ..       ...  \n",
              "2022-12-01  1.829083  1.037057  2.714221  0  1.697061  \n",
              "2023-01-01  1.829083  1.089828  2.686007  0  1.618182  \n",
              "2023-01-01  1.829083  1.089828  2.686007  0  1.618182  \n",
              "2023-02-01  1.829083  1.101681  2.659555  0  1.495921  \n",
              "2023-02-01  1.829083  1.101681  2.659555  0  1.495921  \n",
              "\n",
              "[988 rows x 11 columns]"
            ],
            "text/html": [
              "\n",
              "  <div id=\"df-9a7ab810-3f69-4a81-8b7e-aea4f762eeb6\">\n",
              "    <div class=\"colab-df-container\">\n",
              "      <div>\n",
              "<style scoped>\n",
              "    .dataframe tbody tr th:only-of-type {\n",
              "        vertical-align: middle;\n",
              "    }\n",
              "\n",
              "    .dataframe tbody tr th {\n",
              "        vertical-align: top;\n",
              "    }\n",
              "\n",
              "    .dataframe thead th {\n",
              "        text-align: right;\n",
              "    }\n",
              "</style>\n",
              "<table border=\"1\" class=\"dataframe\">\n",
              "  <thead>\n",
              "    <tr style=\"text-align: right;\">\n",
              "      <th></th>\n",
              "      <th>y</th>\n",
              "      <th>gender</th>\n",
              "      <th>GDP</th>\n",
              "      <th>P</th>\n",
              "      <th>IR</th>\n",
              "      <th>CPI</th>\n",
              "      <th>W</th>\n",
              "      <th>IP</th>\n",
              "      <th>M2</th>\n",
              "      <th>R</th>\n",
              "      <th>OC</th>\n",
              "    </tr>\n",
              "    <tr>\n",
              "      <th>date</th>\n",
              "      <th></th>\n",
              "      <th></th>\n",
              "      <th></th>\n",
              "      <th></th>\n",
              "      <th></th>\n",
              "      <th></th>\n",
              "      <th></th>\n",
              "      <th></th>\n",
              "      <th></th>\n",
              "      <th></th>\n",
              "      <th></th>\n",
              "    </tr>\n",
              "  </thead>\n",
              "  <tbody>\n",
              "    <tr>\n",
              "      <th>1982-01-01</th>\n",
              "      <td>2.140066</td>\n",
              "      <td>0</td>\n",
              "      <td>-1.417519</td>\n",
              "      <td>-1.684400</td>\n",
              "      <td>2.757811</td>\n",
              "      <td>0.250303</td>\n",
              "      <td>-1.255432</td>\n",
              "      <td>-1.890368</td>\n",
              "      <td>-1.078808</td>\n",
              "      <td>1</td>\n",
              "      <td>2.211851</td>\n",
              "    </tr>\n",
              "    <tr>\n",
              "      <th>1982-01-01</th>\n",
              "      <td>2.163323</td>\n",
              "      <td>1</td>\n",
              "      <td>-1.417519</td>\n",
              "      <td>-1.684400</td>\n",
              "      <td>2.757811</td>\n",
              "      <td>0.250303</td>\n",
              "      <td>-1.255432</td>\n",
              "      <td>-1.890368</td>\n",
              "      <td>-1.078808</td>\n",
              "      <td>1</td>\n",
              "      <td>2.211851</td>\n",
              "    </tr>\n",
              "    <tr>\n",
              "      <th>1982-02-01</th>\n",
              "      <td>2.186051</td>\n",
              "      <td>0</td>\n",
              "      <td>-1.417519</td>\n",
              "      <td>-1.679572</td>\n",
              "      <td>2.775386</td>\n",
              "      <td>0.247235</td>\n",
              "      <td>-1.255432</td>\n",
              "      <td>-1.835001</td>\n",
              "      <td>-1.078014</td>\n",
              "      <td>0</td>\n",
              "      <td>2.090539</td>\n",
              "    </tr>\n",
              "    <tr>\n",
              "      <th>1982-02-01</th>\n",
              "      <td>2.174752</td>\n",
              "      <td>1</td>\n",
              "      <td>-1.417519</td>\n",
              "      <td>-1.679572</td>\n",
              "      <td>2.775386</td>\n",
              "      <td>0.247235</td>\n",
              "      <td>-1.255432</td>\n",
              "      <td>-1.835001</td>\n",
              "      <td>-1.078014</td>\n",
              "      <td>0</td>\n",
              "      <td>2.090539</td>\n",
              "    </tr>\n",
              "    <tr>\n",
              "      <th>1982-03-01</th>\n",
              "      <td>2.186051</td>\n",
              "      <td>0</td>\n",
              "      <td>-1.417519</td>\n",
              "      <td>-1.674468</td>\n",
              "      <td>2.493576</td>\n",
              "      <td>-1.033366</td>\n",
              "      <td>-1.255432</td>\n",
              "      <td>-1.853629</td>\n",
              "      <td>-1.075691</td>\n",
              "      <td>1</td>\n",
              "      <td>1.954983</td>\n",
              "    </tr>\n",
              "    <tr>\n",
              "      <th>...</th>\n",
              "      <td>...</td>\n",
              "      <td>...</td>\n",
              "      <td>...</td>\n",
              "      <td>...</td>\n",
              "      <td>...</td>\n",
              "      <td>...</td>\n",
              "      <td>...</td>\n",
              "      <td>...</td>\n",
              "      <td>...</td>\n",
              "      <td>...</td>\n",
              "      <td>...</td>\n",
              "    </tr>\n",
              "    <tr>\n",
              "      <th>2022-12-01</th>\n",
              "      <td>1.280934</td>\n",
              "      <td>0</td>\n",
              "      <td>2.312355</td>\n",
              "      <td>1.488443</td>\n",
              "      <td>-0.472097</td>\n",
              "      <td>-1.641579</td>\n",
              "      <td>1.829083</td>\n",
              "      <td>1.037057</td>\n",
              "      <td>2.714221</td>\n",
              "      <td>0</td>\n",
              "      <td>1.697061</td>\n",
              "    </tr>\n",
              "    <tr>\n",
              "      <th>2023-01-01</th>\n",
              "      <td>1.280934</td>\n",
              "      <td>1</td>\n",
              "      <td>2.365842</td>\n",
              "      <td>1.491917</td>\n",
              "      <td>-0.361556</td>\n",
              "      <td>1.701751</td>\n",
              "      <td>1.829083</td>\n",
              "      <td>1.089828</td>\n",
              "      <td>2.686007</td>\n",
              "      <td>0</td>\n",
              "      <td>1.618182</td>\n",
              "    </tr>\n",
              "    <tr>\n",
              "      <th>2023-01-01</th>\n",
              "      <td>1.193922</td>\n",
              "      <td>0</td>\n",
              "      <td>2.365842</td>\n",
              "      <td>1.491917</td>\n",
              "      <td>-0.361556</td>\n",
              "      <td>1.701751</td>\n",
              "      <td>1.829083</td>\n",
              "      <td>1.089828</td>\n",
              "      <td>2.686007</td>\n",
              "      <td>0</td>\n",
              "      <td>1.618182</td>\n",
              "    </tr>\n",
              "    <tr>\n",
              "      <th>2023-02-01</th>\n",
              "      <td>1.252763</td>\n",
              "      <td>0</td>\n",
              "      <td>2.365842</td>\n",
              "      <td>1.495115</td>\n",
              "      <td>-0.555372</td>\n",
              "      <td>0.972608</td>\n",
              "      <td>1.829083</td>\n",
              "      <td>1.101681</td>\n",
              "      <td>2.659555</td>\n",
              "      <td>0</td>\n",
              "      <td>1.495921</td>\n",
              "    </tr>\n",
              "    <tr>\n",
              "      <th>2023-02-01</th>\n",
              "      <td>1.280934</td>\n",
              "      <td>1</td>\n",
              "      <td>2.365842</td>\n",
              "      <td>1.495115</td>\n",
              "      <td>-0.555372</td>\n",
              "      <td>0.972608</td>\n",
              "      <td>1.829083</td>\n",
              "      <td>1.101681</td>\n",
              "      <td>2.659555</td>\n",
              "      <td>0</td>\n",
              "      <td>1.495921</td>\n",
              "    </tr>\n",
              "  </tbody>\n",
              "</table>\n",
              "<p>988 rows × 11 columns</p>\n",
              "</div>\n",
              "      <button class=\"colab-df-convert\" onclick=\"convertToInteractive('df-9a7ab810-3f69-4a81-8b7e-aea4f762eeb6')\"\n",
              "              title=\"Convert this dataframe to an interactive table.\"\n",
              "              style=\"display:none;\">\n",
              "        \n",
              "  <svg xmlns=\"http://www.w3.org/2000/svg\" height=\"24px\"viewBox=\"0 0 24 24\"\n",
              "       width=\"24px\">\n",
              "    <path d=\"M0 0h24v24H0V0z\" fill=\"none\"/>\n",
              "    <path d=\"M18.56 5.44l.94 2.06.94-2.06 2.06-.94-2.06-.94-.94-2.06-.94 2.06-2.06.94zm-11 1L8.5 8.5l.94-2.06 2.06-.94-2.06-.94L8.5 2.5l-.94 2.06-2.06.94zm10 10l.94 2.06.94-2.06 2.06-.94-2.06-.94-.94-2.06-.94 2.06-2.06.94z\"/><path d=\"M17.41 7.96l-1.37-1.37c-.4-.4-.92-.59-1.43-.59-.52 0-1.04.2-1.43.59L10.3 9.45l-7.72 7.72c-.78.78-.78 2.05 0 2.83L4 21.41c.39.39.9.59 1.41.59.51 0 1.02-.2 1.41-.59l7.78-7.78 2.81-2.81c.8-.78.8-2.07 0-2.86zM5.41 20L4 18.59l7.72-7.72 1.47 1.35L5.41 20z\"/>\n",
              "  </svg>\n",
              "      </button>\n",
              "      \n",
              "  <style>\n",
              "    .colab-df-container {\n",
              "      display:flex;\n",
              "      flex-wrap:wrap;\n",
              "      gap: 12px;\n",
              "    }\n",
              "\n",
              "    .colab-df-convert {\n",
              "      background-color: #E8F0FE;\n",
              "      border: none;\n",
              "      border-radius: 50%;\n",
              "      cursor: pointer;\n",
              "      display: none;\n",
              "      fill: #1967D2;\n",
              "      height: 32px;\n",
              "      padding: 0 0 0 0;\n",
              "      width: 32px;\n",
              "    }\n",
              "\n",
              "    .colab-df-convert:hover {\n",
              "      background-color: #E2EBFA;\n",
              "      box-shadow: 0px 1px 2px rgba(60, 64, 67, 0.3), 0px 1px 3px 1px rgba(60, 64, 67, 0.15);\n",
              "      fill: #174EA6;\n",
              "    }\n",
              "\n",
              "    [theme=dark] .colab-df-convert {\n",
              "      background-color: #3B4455;\n",
              "      fill: #D2E3FC;\n",
              "    }\n",
              "\n",
              "    [theme=dark] .colab-df-convert:hover {\n",
              "      background-color: #434B5C;\n",
              "      box-shadow: 0px 1px 3px 1px rgba(0, 0, 0, 0.15);\n",
              "      filter: drop-shadow(0px 1px 2px rgba(0, 0, 0, 0.3));\n",
              "      fill: #FFFFFF;\n",
              "    }\n",
              "  </style>\n",
              "\n",
              "      <script>\n",
              "        const buttonEl =\n",
              "          document.querySelector('#df-9a7ab810-3f69-4a81-8b7e-aea4f762eeb6 button.colab-df-convert');\n",
              "        buttonEl.style.display =\n",
              "          google.colab.kernel.accessAllowed ? 'block' : 'none';\n",
              "\n",
              "        async function convertToInteractive(key) {\n",
              "          const element = document.querySelector('#df-9a7ab810-3f69-4a81-8b7e-aea4f762eeb6');\n",
              "          const dataTable =\n",
              "            await google.colab.kernel.invokeFunction('convertToInteractive',\n",
              "                                                     [key], {});\n",
              "          if (!dataTable) return;\n",
              "\n",
              "          const docLinkHtml = 'Like what you see? Visit the ' +\n",
              "            '<a target=\"_blank\" href=https://colab.research.google.com/notebooks/data_table.ipynb>data table notebook</a>'\n",
              "            + ' to learn more about interactive tables.';\n",
              "          element.innerHTML = '';\n",
              "          dataTable['output_type'] = 'display_data';\n",
              "          await google.colab.output.renderOutput(dataTable, element);\n",
              "          const docLink = document.createElement('div');\n",
              "          docLink.innerHTML = docLinkHtml;\n",
              "          element.appendChild(docLink);\n",
              "        }\n",
              "      </script>\n",
              "    </div>\n",
              "  </div>\n",
              "  "
            ]
          },
          "metadata": {},
          "execution_count": 118
        }
      ]
    },
    {
      "cell_type": "code",
      "source": [
        "!pip install mlxtend\n",
        "import joblib\n",
        "import sys\n",
        "sys.modules['sklearn.externals.joblib'] = joblib\n",
        "from mlxtend.feature_selection import SequentialFeatureSelector as sfs"
      ],
      "metadata": {
        "colab": {
          "base_uri": "https://localhost:8080/"
        },
        "id": "IWyFBH8aqdTv",
        "outputId": "792d0953-4d97-42c0-b675-640205e01638"
      },
      "execution_count": null,
      "outputs": [
        {
          "output_type": "stream",
          "name": "stdout",
          "text": [
            "Looking in indexes: https://pypi.org/simple, https://us-python.pkg.dev/colab-wheels/public/simple/\n",
            "Requirement already satisfied: mlxtend in /usr/local/lib/python3.10/dist-packages (0.14.0)\n",
            "Requirement already satisfied: scipy>=0.17 in /usr/local/lib/python3.10/dist-packages (from mlxtend) (1.10.1)\n",
            "Requirement already satisfied: pandas>=0.17.1 in /usr/local/lib/python3.10/dist-packages (from mlxtend) (1.5.3)\n",
            "Requirement already satisfied: setuptools in /usr/local/lib/python3.10/dist-packages (from mlxtend) (67.7.2)\n",
            "Requirement already satisfied: scikit-learn>=0.18 in /usr/local/lib/python3.10/dist-packages (from mlxtend) (1.2.2)\n",
            "Requirement already satisfied: numpy>=1.10.4 in /usr/local/lib/python3.10/dist-packages (from mlxtend) (1.22.4)\n",
            "Requirement already satisfied: matplotlib>=1.5.1 in /usr/local/lib/python3.10/dist-packages (from mlxtend) (3.7.1)\n",
            "Requirement already satisfied: kiwisolver>=1.0.1 in /usr/local/lib/python3.10/dist-packages (from matplotlib>=1.5.1->mlxtend) (1.4.4)\n",
            "Requirement already satisfied: packaging>=20.0 in /usr/local/lib/python3.10/dist-packages (from matplotlib>=1.5.1->mlxtend) (23.1)\n",
            "Requirement already satisfied: pillow>=6.2.0 in /usr/local/lib/python3.10/dist-packages (from matplotlib>=1.5.1->mlxtend) (8.4.0)\n",
            "Requirement already satisfied: fonttools>=4.22.0 in /usr/local/lib/python3.10/dist-packages (from matplotlib>=1.5.1->mlxtend) (4.39.3)\n",
            "Requirement already satisfied: python-dateutil>=2.7 in /usr/local/lib/python3.10/dist-packages (from matplotlib>=1.5.1->mlxtend) (2.8.2)\n",
            "Requirement already satisfied: contourpy>=1.0.1 in /usr/local/lib/python3.10/dist-packages (from matplotlib>=1.5.1->mlxtend) (1.0.7)\n",
            "Requirement already satisfied: pyparsing>=2.3.1 in /usr/local/lib/python3.10/dist-packages (from matplotlib>=1.5.1->mlxtend) (3.0.9)\n",
            "Requirement already satisfied: cycler>=0.10 in /usr/local/lib/python3.10/dist-packages (from matplotlib>=1.5.1->mlxtend) (0.11.0)\n",
            "Requirement already satisfied: pytz>=2020.1 in /usr/local/lib/python3.10/dist-packages (from pandas>=0.17.1->mlxtend) (2022.7.1)\n",
            "Requirement already satisfied: threadpoolctl>=2.0.0 in /usr/local/lib/python3.10/dist-packages (from scikit-learn>=0.18->mlxtend) (3.1.0)\n",
            "Requirement already satisfied: joblib>=1.1.1 in /usr/local/lib/python3.10/dist-packages (from scikit-learn>=0.18->mlxtend) (1.2.0)\n",
            "Requirement already satisfied: six>=1.5 in /usr/local/lib/python3.10/dist-packages (from python-dateutil>=2.7->matplotlib>=1.5.1->mlxtend) (1.16.0)\n"
          ]
        }
      ]
    },
    {
      "cell_type": "code",
      "source": [
        "regressor = LinearRegression()\n",
        "regressor.fit(x_train, y_train)\n",
        "\n",
        "forward_fs = sfs(estimator = regressor, k_features = \"best\", forward = True, verbose = 1, scoring = 'r2')\n",
        "feature_names = ('Gender', 'GDP', 'P', 'IR', 'CPI', 'W', 'IP', 'M2', 'R', 'OC')\n",
        "forward_fit = forward_fs.fit(x_train, y_train, custom_feature_names=feature_names)\n",
        "print('R-Squared value:', forward_fit.k_score_)"
      ],
      "metadata": {
        "colab": {
          "base_uri": "https://localhost:8080/"
        },
        "id": "BwDBL3AWteLp",
        "outputId": "56106a78-4f1f-4e6f-9ef2-cf693db3a9f3"
      },
      "execution_count": null,
      "outputs": [
        {
          "output_type": "stream",
          "name": "stderr",
          "text": [
            "[Parallel(n_jobs=1)]: Using backend SequentialBackend with 1 concurrent workers.\n",
            "[Parallel(n_jobs=1)]: Done  10 out of  10 | elapsed:    0.3s finished\n",
            "Features: 1/10[Parallel(n_jobs=1)]: Using backend SequentialBackend with 1 concurrent workers.\n",
            "[Parallel(n_jobs=1)]: Done   9 out of   9 | elapsed:    0.3s finished\n",
            "Features: 2/10[Parallel(n_jobs=1)]: Using backend SequentialBackend with 1 concurrent workers.\n",
            "[Parallel(n_jobs=1)]: Done   8 out of   8 | elapsed:    0.3s finished\n",
            "Features: 3/10[Parallel(n_jobs=1)]: Using backend SequentialBackend with 1 concurrent workers.\n",
            "[Parallel(n_jobs=1)]: Done   7 out of   7 | elapsed:    0.2s finished\n",
            "Features: 4/10[Parallel(n_jobs=1)]: Using backend SequentialBackend with 1 concurrent workers.\n",
            "[Parallel(n_jobs=1)]: Done   6 out of   6 | elapsed:    0.2s finished\n",
            "Features: 5/10[Parallel(n_jobs=1)]: Using backend SequentialBackend with 1 concurrent workers.\n",
            "[Parallel(n_jobs=1)]: Done   5 out of   5 | elapsed:    0.2s finished\n",
            "Features: 6/10[Parallel(n_jobs=1)]: Using backend SequentialBackend with 1 concurrent workers.\n",
            "[Parallel(n_jobs=1)]: Done   4 out of   4 | elapsed:    0.1s finished\n",
            "Features: 7/10[Parallel(n_jobs=1)]: Using backend SequentialBackend with 1 concurrent workers.\n",
            "[Parallel(n_jobs=1)]: Done   3 out of   3 | elapsed:    0.1s finished\n",
            "Features: 8/10[Parallel(n_jobs=1)]: Using backend SequentialBackend with 1 concurrent workers.\n",
            "[Parallel(n_jobs=1)]: Done   2 out of   2 | elapsed:    0.1s finished\n",
            "Features: 9/10[Parallel(n_jobs=1)]: Using backend SequentialBackend with 1 concurrent workers.\n",
            "[Parallel(n_jobs=1)]: Done   1 out of   1 | elapsed:    0.0s finished\n",
            "Features: 10/10"
          ]
        },
        {
          "output_type": "stream",
          "name": "stdout",
          "text": [
            "R-Squared value: 0.5926167720932272\n"
          ]
        }
      ]
    },
    {
      "cell_type": "code",
      "source": [
        "forward_fit.k_feature_names_"
      ],
      "metadata": {
        "colab": {
          "base_uri": "https://localhost:8080/"
        },
        "id": "aBhmRUN_upvp",
        "outputId": "7351a342-8892-4708-e96d-c28e652ce02d"
      },
      "execution_count": null,
      "outputs": [
        {
          "output_type": "execute_result",
          "data": {
            "text/plain": [
              "('GDP', 'P', 'IR', 'IP', 'R', 'OC')"
            ]
          },
          "metadata": {},
          "execution_count": 165
        }
      ]
    },
    {
      "cell_type": "code",
      "source": [
        "x_train, x_test, y_train, y_test = train_test_split(ds.loc[:,~ds.columns.isin(['y'])], ds.y, test_size = 0.2)\n",
        "regressor = SVR()\n",
        "regressor.fit(x_train, y_train)\n",
        "\n",
        "forward_fs = sfs(estimator = regressor, k_features = 6, forward = True, verbose = 1, scoring = 'r2')\n",
        "feature_names = ('Gender', 'GDP', 'P', 'IR', 'CPI', 'W', 'IP', 'M2', 'R', 'OC')\n",
        "forward_fit = forward_fs.fit(x_train, y_train, custom_feature_names=feature_names)\n",
        "print('R-Squared value:', forward_fit.k_score_)\n"
      ],
      "metadata": {
        "colab": {
          "base_uri": "https://localhost:8080/"
        },
        "id": "6ktUEP84rapN",
        "outputId": "332a0dac-0b57-4c23-9536-756ed82dc868"
      },
      "execution_count": null,
      "outputs": [
        {
          "output_type": "stream",
          "name": "stderr",
          "text": [
            "[Parallel(n_jobs=1)]: Using backend SequentialBackend with 1 concurrent workers.\n",
            "[Parallel(n_jobs=1)]: Done  10 out of  10 | elapsed:    1.5s finished\n",
            "Features: 1/6[Parallel(n_jobs=1)]: Using backend SequentialBackend with 1 concurrent workers.\n",
            "[Parallel(n_jobs=1)]: Done   9 out of   9 | elapsed:    1.6s finished\n",
            "Features: 2/6[Parallel(n_jobs=1)]: Using backend SequentialBackend with 1 concurrent workers.\n",
            "[Parallel(n_jobs=1)]: Done   8 out of   8 | elapsed:    1.2s finished\n",
            "Features: 3/6[Parallel(n_jobs=1)]: Using backend SequentialBackend with 1 concurrent workers.\n",
            "[Parallel(n_jobs=1)]: Done   7 out of   7 | elapsed:    0.6s finished\n",
            "Features: 4/6[Parallel(n_jobs=1)]: Using backend SequentialBackend with 1 concurrent workers.\n",
            "[Parallel(n_jobs=1)]: Done   6 out of   6 | elapsed:    0.4s finished\n",
            "Features: 5/6[Parallel(n_jobs=1)]: Using backend SequentialBackend with 1 concurrent workers.\n",
            "[Parallel(n_jobs=1)]: Done   5 out of   5 | elapsed:    0.3s finished\n",
            "Features: 6/6"
          ]
        },
        {
          "output_type": "stream",
          "name": "stdout",
          "text": [
            "R-Squared value: 0.9370480253411341\n"
          ]
        }
      ]
    },
    {
      "cell_type": "code",
      "source": [
        "forward_fit.k_feature_names_"
      ],
      "metadata": {
        "colab": {
          "base_uri": "https://localhost:8080/"
        },
        "id": "i9GoM3kZ4Vnl",
        "outputId": "bb5f24a2-883d-4ca5-ef42-3945ee072896"
      },
      "execution_count": null,
      "outputs": [
        {
          "output_type": "execute_result",
          "data": {
            "text/plain": [
              "('Gender', 'P', 'W', 'IP', 'M2', 'OC')"
            ]
          },
          "metadata": {},
          "execution_count": 131
        }
      ]
    },
    {
      "cell_type": "code",
      "source": [],
      "metadata": {
        "id": "-iAntrhM4Wqd"
      },
      "execution_count": null,
      "outputs": []
    }
  ]
}